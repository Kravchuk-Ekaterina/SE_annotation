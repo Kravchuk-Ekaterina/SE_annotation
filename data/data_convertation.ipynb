{
 "cells": [
  {
   "cell_type": "markdown",
   "id": "6142f53f",
   "metadata": {},
   "source": [
    "# Data convertation and analysis"
   ]
  },
  {
   "cell_type": "markdown",
   "id": "7d67030c",
   "metadata": {},
   "source": [
    "## Reading data"
   ]
  },
  {
   "cell_type": "code",
   "execution_count": 3,
   "id": "14982209",
   "metadata": {},
   "outputs": [],
   "source": [
    "import pandas as pd\n",
    "import os"
   ]
  },
  {
   "cell_type": "code",
   "execution_count": 4,
   "id": "20c965aa",
   "metadata": {},
   "outputs": [],
   "source": [
    "csv_files = os.listdir('deepse_data')"
   ]
  },
  {
   "cell_type": "code",
   "execution_count": 5,
   "id": "56c2cf0b",
   "metadata": {},
   "outputs": [],
   "source": [
    "tables = []\n",
    "table_names = []\n",
    "for file in csv_files:\n",
    "    table_names.append(file[0:len(file)-4])\n",
    "    filename = 'deepse_data/'+file\n",
    "    tables.append(pd.read_csv(filename))"
   ]
  },
  {
   "cell_type": "code",
   "execution_count": 6,
   "id": "9bf36cbe",
   "metadata": {},
   "outputs": [],
   "source": [
    "data = {}\n",
    "for i in range(len(tables)):\n",
    "    data[table_names[i]] = tables[i]"
   ]
  },
  {
   "cell_type": "markdown",
   "id": "46acb563",
   "metadata": {},
   "source": [
    "data is a dictionary with pandas dataframes"
   ]
  },
  {
   "cell_type": "markdown",
   "id": "73f3659b",
   "metadata": {},
   "source": [
    "## Data inspection"
   ]
  },
  {
   "cell_type": "markdown",
   "id": "9353711d",
   "metadata": {},
   "source": [
    "Let's observe the structure of the tables"
   ]
  },
  {
   "cell_type": "code",
   "execution_count": 5,
   "id": "41a291c5",
   "metadata": {},
   "outputs": [
    {
     "data": {
      "text/html": [
       "<div>\n",
       "<style scoped>\n",
       "    .dataframe tbody tr th:only-of-type {\n",
       "        vertical-align: middle;\n",
       "    }\n",
       "\n",
       "    .dataframe tbody tr th {\n",
       "        vertical-align: top;\n",
       "    }\n",
       "\n",
       "    .dataframe thead th {\n",
       "        text-align: right;\n",
       "    }\n",
       "</style>\n",
       "<table border=\"1\" class=\"dataframe\">\n",
       "  <thead>\n",
       "    <tr style=\"text-align: right;\">\n",
       "      <th></th>\n",
       "      <th>chrom</th>\n",
       "      <th>start</th>\n",
       "      <th>end</th>\n",
       "      <th>label</th>\n",
       "      <th>length</th>\n",
       "    </tr>\n",
       "  </thead>\n",
       "  <tbody>\n",
       "    <tr>\n",
       "      <th>0</th>\n",
       "      <td>chr1</td>\n",
       "      <td>53870893</td>\n",
       "      <td>53913933</td>\n",
       "      <td>YES</td>\n",
       "      <td>43041</td>\n",
       "    </tr>\n",
       "    <tr>\n",
       "      <th>1</th>\n",
       "      <td>chr1</td>\n",
       "      <td>136179764</td>\n",
       "      <td>136204417</td>\n",
       "      <td>YES</td>\n",
       "      <td>24654</td>\n",
       "    </tr>\n",
       "    <tr>\n",
       "      <th>2</th>\n",
       "      <td>chr1</td>\n",
       "      <td>179553366</td>\n",
       "      <td>179576691</td>\n",
       "      <td>YES</td>\n",
       "      <td>23326</td>\n",
       "    </tr>\n",
       "    <tr>\n",
       "      <th>3</th>\n",
       "      <td>chr1</td>\n",
       "      <td>20645162</td>\n",
       "      <td>20668425</td>\n",
       "      <td>YES</td>\n",
       "      <td>23264</td>\n",
       "    </tr>\n",
       "    <tr>\n",
       "      <th>4</th>\n",
       "      <td>chr1</td>\n",
       "      <td>137886445</td>\n",
       "      <td>137904785</td>\n",
       "      <td>YES</td>\n",
       "      <td>18341</td>\n",
       "    </tr>\n",
       "  </tbody>\n",
       "</table>\n",
       "</div>"
      ],
      "text/plain": [
       "  chrom      start        end label  length\n",
       "0  chr1   53870893   53913933   YES   43041\n",
       "1  chr1  136179764  136204417   YES   24654\n",
       "2  chr1  179553366  179576691   YES   23326\n",
       "3  chr1   20645162   20668425   YES   23264\n",
       "4  chr1  137886445  137904785   YES   18341"
      ]
     },
     "execution_count": 5,
     "metadata": {},
     "output_type": "execute_result"
    }
   ],
   "source": [
    "data[table_names[0]].head()"
   ]
  },
  {
   "cell_type": "code",
   "execution_count": 6,
   "id": "b4250b80",
   "metadata": {},
   "outputs": [],
   "source": [
    "data['mESC_constituent']['length'] = data['mESC_constituent']['end'] - data['mESC_constituent']['start']"
   ]
  },
  {
   "cell_type": "markdown",
   "id": "6b39e934",
   "metadata": {},
   "source": [
    "YES is SE label, NO is TE label"
   ]
  },
  {
   "cell_type": "markdown",
   "id": "1dcc0cd5",
   "metadata": {},
   "source": [
    "Let's create a new column with cell type and merge the tables"
   ]
  },
  {
   "cell_type": "code",
   "execution_count": 7,
   "id": "625e6bd8",
   "metadata": {},
   "outputs": [],
   "source": [
    "for table in data:\n",
    "    data[table]['cell type'] = table\n",
    "full_data = pd.concat(data.values(), ignore_index=True)"
   ]
  },
  {
   "cell_type": "code",
   "execution_count": 8,
   "id": "302d1789",
   "metadata": {},
   "outputs": [
    {
     "data": {
      "text/html": [
       "<div>\n",
       "<style scoped>\n",
       "    .dataframe tbody tr th:only-of-type {\n",
       "        vertical-align: middle;\n",
       "    }\n",
       "\n",
       "    .dataframe tbody tr th {\n",
       "        vertical-align: top;\n",
       "    }\n",
       "\n",
       "    .dataframe thead th {\n",
       "        text-align: right;\n",
       "    }\n",
       "</style>\n",
       "<table border=\"1\" class=\"dataframe\">\n",
       "  <thead>\n",
       "    <tr style=\"text-align: right;\">\n",
       "      <th></th>\n",
       "      <th>chrom</th>\n",
       "      <th>start</th>\n",
       "      <th>end</th>\n",
       "      <th>label</th>\n",
       "      <th>length</th>\n",
       "      <th>cell type</th>\n",
       "    </tr>\n",
       "  </thead>\n",
       "  <tbody>\n",
       "    <tr>\n",
       "      <th>0</th>\n",
       "      <td>chr1</td>\n",
       "      <td>53870893</td>\n",
       "      <td>53913933</td>\n",
       "      <td>YES</td>\n",
       "      <td>43041</td>\n",
       "      <td>myotube</td>\n",
       "    </tr>\n",
       "    <tr>\n",
       "      <th>1</th>\n",
       "      <td>chr1</td>\n",
       "      <td>136179764</td>\n",
       "      <td>136204417</td>\n",
       "      <td>YES</td>\n",
       "      <td>24654</td>\n",
       "      <td>myotube</td>\n",
       "    </tr>\n",
       "    <tr>\n",
       "      <th>2</th>\n",
       "      <td>chr1</td>\n",
       "      <td>179553366</td>\n",
       "      <td>179576691</td>\n",
       "      <td>YES</td>\n",
       "      <td>23326</td>\n",
       "      <td>myotube</td>\n",
       "    </tr>\n",
       "    <tr>\n",
       "      <th>3</th>\n",
       "      <td>chr1</td>\n",
       "      <td>20645162</td>\n",
       "      <td>20668425</td>\n",
       "      <td>YES</td>\n",
       "      <td>23264</td>\n",
       "      <td>myotube</td>\n",
       "    </tr>\n",
       "    <tr>\n",
       "      <th>4</th>\n",
       "      <td>chr1</td>\n",
       "      <td>137886445</td>\n",
       "      <td>137904785</td>\n",
       "      <td>YES</td>\n",
       "      <td>18341</td>\n",
       "      <td>myotube</td>\n",
       "    </tr>\n",
       "    <tr>\n",
       "      <th>...</th>\n",
       "      <td>...</td>\n",
       "      <td>...</td>\n",
       "      <td>...</td>\n",
       "      <td>...</td>\n",
       "      <td>...</td>\n",
       "      <td>...</td>\n",
       "    </tr>\n",
       "    <tr>\n",
       "      <th>116892</th>\n",
       "      <td>chrX</td>\n",
       "      <td>137148735</td>\n",
       "      <td>137148970</td>\n",
       "      <td>NO</td>\n",
       "      <td>236</td>\n",
       "      <td>Th-cell</td>\n",
       "    </tr>\n",
       "    <tr>\n",
       "      <th>116893</th>\n",
       "      <td>chrX</td>\n",
       "      <td>163504132</td>\n",
       "      <td>163504364</td>\n",
       "      <td>NO</td>\n",
       "      <td>233</td>\n",
       "      <td>Th-cell</td>\n",
       "    </tr>\n",
       "    <tr>\n",
       "      <th>116894</th>\n",
       "      <td>chrX</td>\n",
       "      <td>11560114</td>\n",
       "      <td>11560332</td>\n",
       "      <td>NO</td>\n",
       "      <td>219</td>\n",
       "      <td>Th-cell</td>\n",
       "    </tr>\n",
       "    <tr>\n",
       "      <th>116895</th>\n",
       "      <td>chrX</td>\n",
       "      <td>103059785</td>\n",
       "      <td>103059991</td>\n",
       "      <td>NO</td>\n",
       "      <td>207</td>\n",
       "      <td>Th-cell</td>\n",
       "    </tr>\n",
       "    <tr>\n",
       "      <th>116896</th>\n",
       "      <td>chrX</td>\n",
       "      <td>70739036</td>\n",
       "      <td>70739223</td>\n",
       "      <td>NO</td>\n",
       "      <td>188</td>\n",
       "      <td>Th-cell</td>\n",
       "    </tr>\n",
       "  </tbody>\n",
       "</table>\n",
       "<p>116897 rows × 6 columns</p>\n",
       "</div>"
      ],
      "text/plain": [
       "       chrom      start        end label  length cell type\n",
       "0       chr1   53870893   53913933   YES   43041   myotube\n",
       "1       chr1  136179764  136204417   YES   24654   myotube\n",
       "2       chr1  179553366  179576691   YES   23326   myotube\n",
       "3       chr1   20645162   20668425   YES   23264   myotube\n",
       "4       chr1  137886445  137904785   YES   18341   myotube\n",
       "...      ...        ...        ...   ...     ...       ...\n",
       "116892  chrX  137148735  137148970    NO     236   Th-cell\n",
       "116893  chrX  163504132  163504364    NO     233   Th-cell\n",
       "116894  chrX   11560114   11560332    NO     219   Th-cell\n",
       "116895  chrX  103059785  103059991    NO     207   Th-cell\n",
       "116896  chrX   70739036   70739223    NO     188   Th-cell\n",
       "\n",
       "[116897 rows x 6 columns]"
      ]
     },
     "execution_count": 8,
     "metadata": {},
     "output_type": "execute_result"
    }
   ],
   "source": [
    "full_data"
   ]
  },
  {
   "cell_type": "code",
   "execution_count": 9,
   "id": "d06e3e7b",
   "metadata": {},
   "outputs": [
    {
     "data": {
      "text/plain": [
       "cell type         label\n",
       "H2171             NO       16354\n",
       "                  YES        357\n",
       "MM1.S             NO       11685\n",
       "                  YES        640\n",
       "Th-cell           NO       18129\n",
       "                  YES        436\n",
       "mESC              NO        8562\n",
       "                  YES        231\n",
       "mESC_constituent  NO        9961\n",
       "                  YES        645\n",
       "macrophage        NO        9514\n",
       "                  YES        961\n",
       "myotube           NO        4769\n",
       "                  YES        535\n",
       "proB-cell         NO       13419\n",
       "                  YES        395\n",
       "u87               NO       19231\n",
       "                  YES       1073\n",
       "Name: label, dtype: int64"
      ]
     },
     "execution_count": 9,
     "metadata": {},
     "output_type": "execute_result"
    }
   ],
   "source": [
    "full_data.groupby(['cell type', 'label'])['label'].count()"
   ]
  },
  {
   "cell_type": "markdown",
   "id": "7662330f",
   "metadata": {},
   "source": [
    "The dataset is not balanced"
   ]
  },
  {
   "cell_type": "markdown",
   "id": "58cfe0ee",
   "metadata": {},
   "source": [
    "Let's look at length"
   ]
  },
  {
   "cell_type": "code",
   "execution_count": 10,
   "id": "2a6bccab",
   "metadata": {},
   "outputs": [
    {
     "data": {
      "text/plain": [
       "cell type         label\n",
       "H2171             NO        96199\n",
       "                  YES      295170\n",
       "MM1.S             NO        48688\n",
       "                  YES      110865\n",
       "Th-cell           NO        78545\n",
       "                  YES      202017\n",
       "mESC              NO        35622\n",
       "                  YES       50164\n",
       "mESC_constituent  NO         2532\n",
       "                  YES        2504\n",
       "macrophage        NO        33997\n",
       "                  YES       68990\n",
       "myotube           NO        20643\n",
       "                  YES       43041\n",
       "proB-cell         NO        56562\n",
       "                  YES       83907\n",
       "u87               NO        61987\n",
       "                  YES      200453\n",
       "Name: length, dtype: int64"
      ]
     },
     "execution_count": 10,
     "metadata": {},
     "output_type": "execute_result"
    }
   ],
   "source": [
    "full_data.groupby(['cell type', 'label'])['length'].max()"
   ]
  },
  {
   "cell_type": "code",
   "execution_count": 11,
   "id": "f3399339",
   "metadata": {},
   "outputs": [
    {
     "data": {
      "text/plain": [
       "cell type         label\n",
       "H2171             NO        205\n",
       "                  YES      3808\n",
       "MM1.S             NO        369\n",
       "                  YES      3899\n",
       "Th-cell           NO        185\n",
       "                  YES       679\n",
       "mESC              NO         11\n",
       "                  YES       554\n",
       "mESC_constituent  NO         24\n",
       "                  YES        32\n",
       "macrophage        NO        232\n",
       "                  YES       392\n",
       "myotube           NO        151\n",
       "                  YES       321\n",
       "proB-cell         NO        109\n",
       "                  YES       484\n",
       "u87               NO        305\n",
       "                  YES      4776\n",
       "Name: length, dtype: int64"
      ]
     },
     "execution_count": 11,
     "metadata": {},
     "output_type": "execute_result"
    }
   ],
   "source": [
    "full_data.groupby(['cell type', 'label'])['length'].min()"
   ]
  },
  {
   "cell_type": "markdown",
   "id": "b37bdeb9",
   "metadata": {},
   "source": [
    "The length changes from 11 to 295170 bp. Let's observe its distribution"
   ]
  },
  {
   "cell_type": "code",
   "execution_count": 7,
   "id": "c2343eb3",
   "metadata": {},
   "outputs": [],
   "source": [
    "import seaborn as sns"
   ]
  },
  {
   "cell_type": "code",
   "execution_count": 13,
   "id": "c93e0c10",
   "metadata": {},
   "outputs": [
    {
     "data": {
      "text/plain": [
       "<AxesSubplot:xlabel='length', ylabel='cell type'>"
      ]
     },
     "execution_count": 13,
     "metadata": {},
     "output_type": "execute_result"
    },
    {
     "data": {
      "image/png": "[encoded data removed]",
      "text/plain": [
       "<Figure size 1008x595.44 with 1 Axes>"
      ]
     },
     "metadata": {},
     "output_type": "display_data"
    }
   ],
   "source": [
    "sns.set(rc={'figure.figsize':(14,8.27)})\n",
    "sns.boxplot(data=full_data, x=\"length\", y=\"cell type\", hue=\"label\")"
   ]
  },
  {
   "cell_type": "markdown",
   "id": "bc24ecf1",
   "metadata": {},
   "source": [
    "We can see that mean SE length is greater than mean TE length for all the cell types. "
   ]
  },
  {
   "cell_type": "markdown",
   "id": "9f9d1310",
   "metadata": {},
   "source": [
    "We decided to filter data and remove sequences shorter than 500 bp."
   ]
  },
  {
   "cell_type": "code",
   "execution_count": 14,
   "id": "704d0abb",
   "metadata": {},
   "outputs": [],
   "source": [
    "subset = full_data[full_data['length']>=500]"
   ]
  },
  {
   "cell_type": "code",
   "execution_count": 15,
   "id": "0153ab67",
   "metadata": {},
   "outputs": [
    {
     "data": {
      "text/plain": [
       "cell type         label\n",
       "H2171             NO       16262\n",
       "                  YES        357\n",
       "MM1.S             NO       11669\n",
       "                  YES        640\n",
       "Th-cell           NO       13250\n",
       "                  YES        436\n",
       "mESC              NO        7376\n",
       "                  YES        231\n",
       "mESC_constituent  NO        8444\n",
       "                  YES        615\n",
       "macrophage        NO        7254\n",
       "                  YES        960\n",
       "myotube           NO         783\n",
       "                  YES        460\n",
       "proB-cell         NO        6590\n",
       "                  YES        394\n",
       "u87               NO       19086\n",
       "                  YES       1073\n",
       "Name: label, dtype: int64"
      ]
     },
     "execution_count": 15,
     "metadata": {},
     "output_type": "execute_result"
    }
   ],
   "source": [
    "subset.groupby(['cell type', 'label'])['label'].count()"
   ]
  },
  {
   "cell_type": "code",
   "execution_count": 16,
   "id": "55811be9",
   "metadata": {},
   "outputs": [
    {
     "data": {
      "text/plain": [
       "<AxesSubplot:xlabel='length', ylabel='cell type'>"
      ]
     },
     "execution_count": 16,
     "metadata": {},
     "output_type": "execute_result"
    },
    {
     "data": {
      "image/png": "[encoded data removed]",
      "text/plain": [
       "<Figure size 1008x595.44 with 1 Axes>"
      ]
     },
     "metadata": {},
     "output_type": "display_data"
    }
   ],
   "source": [
    "sns.boxplot(data=subset, x=\"length\", y=\"cell type\", hue=\"label\")"
   ]
  },
  {
   "cell_type": "markdown",
   "id": "e4d694e6",
   "metadata": {},
   "source": [
    "## Required data format"
   ]
  },
  {
   "cell_type": "markdown",
   "id": "0c50234e",
   "metadata": {},
   "source": [
    "For DNABERT-6 we need to create a dataset with sequences split into 6-mers and with label 0 (TE) or 1 (SE)"
   ]
  },
  {
   "cell_type": "markdown",
   "id": "2f9a3700",
   "metadata": {},
   "source": [
    "Let's look at example input for DNABERT"
   ]
  },
  {
   "cell_type": "code",
   "execution_count": 17,
   "id": "a866c845",
   "metadata": {},
   "outputs": [],
   "source": [
    "dnabert_data = pd.read_csv('dnabert_ft_train_data_example.tsv', sep=\"\\t\")"
   ]
  },
  {
   "cell_type": "code",
   "execution_count": 18,
   "id": "036aa201",
   "metadata": {},
   "outputs": [
    {
     "data": {
      "text/html": [
       "<div>\n",
       "<style scoped>\n",
       "    .dataframe tbody tr th:only-of-type {\n",
       "        vertical-align: middle;\n",
       "    }\n",
       "\n",
       "    .dataframe tbody tr th {\n",
       "        vertical-align: top;\n",
       "    }\n",
       "\n",
       "    .dataframe thead th {\n",
       "        text-align: right;\n",
       "    }\n",
       "</style>\n",
       "<table border=\"1\" class=\"dataframe\">\n",
       "  <thead>\n",
       "    <tr style=\"text-align: right;\">\n",
       "      <th></th>\n",
       "      <th>sequence</th>\n",
       "      <th>label</th>\n",
       "    </tr>\n",
       "  </thead>\n",
       "  <tbody>\n",
       "    <tr>\n",
       "      <th>0</th>\n",
       "      <td>CACAGC ACAGCC CAGCCA AGCCAG GCCAGC CCAGCC CAGC...</td>\n",
       "      <td>0</td>\n",
       "    </tr>\n",
       "    <tr>\n",
       "      <th>1</th>\n",
       "      <td>CTAATC TAATCT AATCTA ATCTAG TCTAGT CTAGTA TAGT...</td>\n",
       "      <td>1</td>\n",
       "    </tr>\n",
       "    <tr>\n",
       "      <th>2</th>\n",
       "      <td>GGAAGA GAAGAG AAGAGG AGAGGG GAGGGA AGGGAA GGGA...</td>\n",
       "      <td>1</td>\n",
       "    </tr>\n",
       "    <tr>\n",
       "      <th>3</th>\n",
       "      <td>CGAAAG GAAAGC AAAGCA AAGCAA AGCAAT GCAATC CAAT...</td>\n",
       "      <td>1</td>\n",
       "    </tr>\n",
       "    <tr>\n",
       "      <th>4</th>\n",
       "      <td>TGACTC GACTCC ACTCCC CTCCCA TCCCAA CCCAAA CCAA...</td>\n",
       "      <td>1</td>\n",
       "    </tr>\n",
       "  </tbody>\n",
       "</table>\n",
       "</div>"
      ],
      "text/plain": [
       "                                            sequence  label\n",
       "0  CACAGC ACAGCC CAGCCA AGCCAG GCCAGC CCAGCC CAGC...      0\n",
       "1  CTAATC TAATCT AATCTA ATCTAG TCTAGT CTAGTA TAGT...      1\n",
       "2  GGAAGA GAAGAG AAGAGG AGAGGG GAGGGA AGGGAA GGGA...      1\n",
       "3  CGAAAG GAAAGC AAAGCA AAGCAA AGCAAT GCAATC CAAT...      1\n",
       "4  TGACTC GACTCC ACTCCC CTCCCA TCCCAA CCCAAA CCAA...      1"
      ]
     },
     "execution_count": 18,
     "metadata": {},
     "output_type": "execute_result"
    }
   ],
   "source": [
    "dnabert_data.head()"
   ]
  },
  {
   "cell_type": "markdown",
   "id": "23551de5",
   "metadata": {},
   "source": [
    "## Data convertation"
   ]
  },
  {
   "cell_type": "markdown",
   "id": "5aa272cd",
   "metadata": {},
   "source": [
    "Let's get DNA sequences from the coordinates for our data. The first step is converting into bed format"
   ]
  },
  {
   "cell_type": "code",
   "execution_count": 8,
   "id": "c2a49eed",
   "metadata": {},
   "outputs": [],
   "source": [
    "from fuc import pybed"
   ]
  },
  {
   "cell_type": "code",
   "execution_count": 20,
   "id": "f8c02d03",
   "metadata": {},
   "outputs": [],
   "source": [
    "bet_subset = subset.rename(columns={\"chrom\":\"Chromosome\", \"start\": \"Start\", \"end\": \"End\"})"
   ]
  },
  {
   "cell_type": "code",
   "execution_count": 21,
   "id": "76cd6cb6",
   "metadata": {},
   "outputs": [],
   "source": [
    "bet_sets = {}\n",
    "for name in table_names:\n",
    "    bet_set = bet_subset[bet_subset['cell type']==name]\n",
    "    bet_sets[name] = bet_set[['Chromosome', 'Start', 'End']]"
   ]
  },
  {
   "cell_type": "code",
   "execution_count": 22,
   "id": "28162b42",
   "metadata": {},
   "outputs": [],
   "source": [
    "for s in bet_sets:\n",
    "    file = pybed.BedFrame.from_frame(meta=[], data=bet_sets[s])\n",
    "    filename = 'bed_files/' + s + '.bed'\n",
    "    file.to_file(filename)"
   ]
  },
  {
   "cell_type": "markdown",
   "id": "57740c39",
   "metadata": {},
   "source": [
    "We use bed2fasta https://meme-suite.org/meme/tools/bed2fasta to extract sequences using the coordinates in bed files. Here we choose UCSC mammalian genomes, Human and hg19 (for mm1.s, h2171, u87) or Nouse and mm9 for other cell types. The obtained bed files are stored in /fasta_files"
   ]
  },
  {
   "cell_type": "markdown",
   "id": "1c327e16",
   "metadata": {},
   "source": [
    "Let's look at the obtained sequences"
   ]
  },
  {
   "cell_type": "code",
   "execution_count": 23,
   "id": "62905cce",
   "metadata": {},
   "outputs": [
    {
     "name": "stdout",
     "output_type": "stream",
     "text": [
      ">chr1:53870893-53913933(+) \n",
      "\n",
      "AAAATATTTTCTTTATGTGCCACCCTTTAGAAGATATATTTCATGCATAGTATGAGAATGAAAAAGCCAAGTTCAGTCTTTTTTCTTCCTTTCTATTCAGAGACAAGAATGAAGACTTTGCAAAGAGCTTCCCTTTGATTCCCTTCCAGCACTGTCAGCTGCCTGGATGTCCCTTGGATAATGTGTGGCTCGGTGGTTTTTCATTTTCTTGGGCAGGGATGAGCAGCAGTTGTGGCTGGAGACCAGACTGTGGCTCAGAGTTTGGGGAAAGTCCCTGGCTAGACTTGTCTGCAGATATTGTGACTGCTTTGAATTCCGTGTTATAGTCTGCTTTCTCCCTGTTCATAACATGGAAAAATGTCCATTTAATCACAGTTATATGCAGCACTCttttttttttttttttttttttAAATATCTACTCTTTTGCCAAGACTGGGGGAGGGGCAGTGCTTTCCTGTTATTTGCACCTGACTCACAATAAAGAAAGAGTCTCTGAATAGTACATCTTATCAGGAGCAGATCTGCACTTTTGACACAGGATAGGTAGCACCCTATCCTGAATTCACAACAGCTTGTTTGCTGGAGCTAAGTAGTTTATACTCAATTAAAAAAAAAAAAGGAGCCTGAAGTAATGTGTAACTTGAGGGAGACATGAGTAGGATATTTGTACGAAAGTAACATGCAAATTTTTATTGTTTCCAATTGTTTCTTACTTGTGAGGTAAGGTAAATATAACTAttttttttagaattaatttttttaattagggattttcttcatttacatttccaatgctatccaaaaagtccccaatacactcctcctgccactcccctacccacccactcccactttttggccctggcgttcccctgtactggggcatataaagtttgcaagtccaaagggcctctctttccagtgatggctgactaggccatcttttgatgcatatgcagctagactcaagagctctgggatactggttagttcataatgttgttccacctatagggttgcagatccctttagctccttgggtactttctctagctcctccattgggagccctgtgatccctccaatagctgactgtgagcatccacgactgtgtttgctaggccccggtatagcctcacaagagacagctaAAATATAACTACTATTGTTATaagtaatacagaatagggggaagatgaagacttgagtgttgagatttggggttgaaccccacttctaccaactacaccagctgtggaatctggagtgtcttattagaattgtgagacccaaatttcttacctgtgaaagagagataatatggtaaggccatttatcttagagggtatgaggattcactgaaatagcagagtttcccagaatggctgggacacagtGTTTGACTAAATAACAATAGGTGCATGGTTAGGTACATTTCCTCGTCATCAAGAGGACACTATCCTGATTGCCTTCAATAAATTGCTCAGAGATAACAATGACCAGGAGATCAAGACATAATCAAGAGATAATAAAGCAGGTGTGTGCTCACATGGCTTTTTAGAAACAGAATGTGAGGAGCTCTGTTAACACTGAAGAATCTCAGTTTCCACTCAGGTGTTCCACTCCTGTGACCTCGAACACTGAGCGACCCTGGTGGGAATCGCCTCATCGATCTTTGAAAGCAAACCCCcaaaaccaaaccaaaccaaaaaaaacaaaataaaacaaaacaaaaATTTAAAACCCCATCTAAACCCCCAAAACCAAACATCCTAGAATTTTATTTACCATAATTCCTCTGATAGCCCCTTATGATGGAGTCCAGACTGGGAACCCAAGGCAAAAAAAAAGTTTTACTAACATACTGCTGAGTCTTCAAGTTGACTTAAAGTCTATCTGGTCTGAAATTCTAAAAAGTAAAAAGCAAAGCAAAAATAAAAAACAAAAAACAaacaacaacaacaacaacaaACCTCTCAAAATACAAAATAAATGGTTTCATTTTTGATCCAGGGGAAGATGAGGGAGAAATAGAGAAGTGAAATATGTATGCTTTGAGCAGAAAAATATGTCAGGCTTTCTGTGACAGTCAGGGACGATTCCTTATCCCATTTGTCTAAAATATAGTAGGTTGATTTTTTTTTTTTAATTTTCATTGTTTTGTCTACTTACTCTCAGCTTTCACTGTTTCATGATCCTTTACCTGCCTTTTCTTTTTAATGCTTTTATTGTAGTAAAATTTACCCTTGTAGCTGTTTTCAAATGCCCAGGTTTGTGGCATTAAATGCACGACCCtcaacttgtaaggatcaggaactgtctaggagacaaacctcatgtttgtcaggggctatgcagattagaccagcctctgtgcatgtctataaggggttatcctggttggatgaactgaagtagaaaggcccacactaactaggggagaagctactccaaggtcctgggccttggactgtgcaaagaggaggaagtgggttagtatgcactgttctgccctatggacacagtatgatcaggcaccttaagctcttgcaaccatgacagagatgccccttgaactgtgagttaagatcagccctccctgccttaaactgctctgccagggcatttcagagcagcagcaagaacgggaactagaacaACACACGGATGGATGAGAGAGCATGTGGCAACTAAAACTGTCTCCATCAAACAGGCGATATATCGTCTTTGTcctcccccgggcccctggaactcactgttctatgatttctactcctactgtgtactttaactaagtggaatctgaagatattttgtgcactatttctgggttatttcaatttacataatgtttacaaggctcacgttgtaaccatggctcagaattcccttcattcttgaagctgaatgttaattccactgtgcatatataccatgatgtgttgatttattcatctgttggtggacatgagtgtgtttccccctgtggttattataaatactgctgttatggacacagacacacacacgtctatttaaatcactgtttctagtctccggggagtcatccagaagtagaattgtgggaacatggtatatttaatgttttaagaaatccccaGTTTagccgggcggtggtggcgcacacctttaatcccagcacttgggaggcagaggcaggcggatttctgagttcgaggccagcctggtctacagagtgagttcaaggacagccagggctatacagagaaaccctgtctcagaaaaaaaaaaaaaaaaaaaaaaaaaCCAGCATTTAAAAAAAAACATTTTCCCATTAAAATATTTCCAACTTTTCTAAGTTCTAGGTTACATATATATTGCTTCTCAGTCATGAGACATAGCCACCATGACTGCCCCACAATCTAATGCCATCGTTGCTTCTCAAATCACATCTGGTTGTATAACACATAGTTATCATAAGCTAACTTCTGAATAAACAAATCTAGAGAAAGTCACATGAGGCCAGAGACAGACTATATTCTAGAAGGGAAAGAGTAAATGGTTCTCCTAAGCTCAAAGCCAAGTAAGTGGCTCACCAAAAAAACAGGGTCTCCTCAAGGAAACCCAACATTCAACTGAAAACCGAGACTTTATTGTCCCCTGGCTGTTAAGACCATGCCACCATGCCTGGGAGCTGGAAACCCCAGCACTCTGCATGCATTTTACACTATAGTCACATACATCTGAGGAACAGAATTGAAGGGGAAAAAAGCTTGAGAGGATTTTTAAGGGACTATTCAGTGGCAGTATGGAGTAGCTTGGGGACAATGGTCAAGTTTGAGTCAATCCAGAAGCAGCCTGGGAGACACCAGGGGATTTTTAAGTGACCCAACTGTCACTGAATCTCAGGCTTACTGGAGAACAGAGATAAACCGTGGGGACATTTTGGAGTATTTCAGAGTCACCCAAGGCTCTGAGAGAGCTCTATTCACAACAGAGAGTTTGGGTTTTGTCCCTTGAGATTCTAAGTAAGATGGTTGGGGGGGGGGCAGGGGGTCCTGGTGATCTGCATTTTAAGATTCACTCCAAATGAGTCAAATGTAGGTGGTCTCCACCATGGAGAGACATCAAGCCAATTAGAAATACAATATCTAAAGTGGATATCCACACTGACATTCCGTGTGCTTTGCAGATTTTTCCAAACTGCATACAAACAAGCCAGCATTGCTAATAAGGAAATTGAGGAAGTGTGGTTAAATACATTGCCCAACATTTACCATCAGCTTGTCGTATGAGCCAAGTATgagagagagagagagagagagagagagagagagagagagagagagggagagagggagagagggagagagggagagggagggagggagggagggagagagagagagagagagagagagagagagagagagagagGCAGCAGCAAGCAAACAAAACAAAAACTTCTGGGGCTTTTCCGTGCCCTACAAAAGTGAGCAGAAAACACCAGGAGGGCCACTGGACTGTGTTGAAATTGGCAGCAAAAGTGCACCCAGCTTTTCAGTCTCAGTGAGAGAATGTTTCTTCAAATCTTCCAAAGCTAGCCACCCTGAAGCCATAATGAGTTTACCTCACTTTAGTCTTTGCAGCCAGAACCACTCAGGAATAGCAGGTCTGAACCCATCCTTGGGAAACCATGCTGGCACCAATACCAAGGTTTTCAAGACCTCCTGATCTATGGTCTGACTTAATGGCTTTCTGGATTTTTCTGATATTAAACAGGGGGGCCATAGGCTTGCCCTCTTTTGGATTTCATATGGTTAGTCAGTTATCTAACCCAGTAAGCATCACAGCTATGTTTTTATAAGCCACTTAAGTTGATTAACAGCTCTCTGCCTGGAGTGAATGTACTTACTCATTCTCTTATTCTACACCCAAAAGTAATTTTTTTGTACAAGCACCCAAAATGCTAGACAAAGAAGAAATTAAAATCAAGATTATAAAATAGAGAGACAGAGACAGGAAAGGAAAACCATGAACCCTATTGTAAGTAACAGGTATAATACAAAAATAAAATGTGTTAGCATGAAATAAATCCTTTTCTGAATTAGAATCTGCCAGCATGCTCTTCTTTGTTTGCAGTGATATCTCACGCTTCACATCTCAGTTTTCTTATTCCTATTTATACTTTTTCATCAAGAAATTTGTCAATCAAAACTAATACTCAAAACACCCTAGAAGTGgggcagcggtggtacacacctttaattatagcacttggaggcagaggcaggtggatctctaagtatgaggccagcctggtctacagagtgagttccaggacagtcagggctacacagagaaaccctgtctcaaGaaacaaaacaaaacaaaacaaaCAAATAAAAAAGACAAAAACACCACCACCACCCTGAAGAGTTATGCATGGATCCTGAGACATTATTTTTCAATGTCAAATTTTCTTTGGCAATGTGTGTGTTCCCAAACTGACTTATCAAGTCCAAATTTTACTTAGTTGCAGGTATCTGGAGAAGAGGGCTCGCTCACAGTCCTGTGGGCTGTTGTGCCTGGAGGAAATGGCTCTTGCCTGCTTTGGTGTATCCTCAGGGATTCTGTGCTCACATCTCCATCCTGTTCTGGCTTTTCAAGTTCCCAGTTCAGGAGACCAGTGGGTGCCTGGGAAGAATCTAATCCATTCACTTCTAGAATCTCACTAGTAGAAAAATACCTgctgggcagtggtggcacacacctttaatcccagtactcgggagacagaggcaggtgaatttctgagtttgaggccagcctggtctatagagtgagttccaggacagccagggctatacagagaaatcctgtctcaaaaccaaaacaaatcaaaaccaaaaaaccaaaaaaccaaaaccaaaaccaaaaccaaaaaaaaaaagaaaagaaaagaaaaATACCTCTATTTTTTCCCATCTTAAAGGTCCCACATCATGAAAGTTTGCCATGCGAAATGGCTTTGGTGATCAAAATTTAAATCTTCCACTGTATGACACCTTCTTATTACTTCACTTGCCAAACTGAATGCTCACTGAGCTCTTCGGGCACATGAGGAAGAAAGGTTTGTTCTTGAAAGAATTCCCATGCACAGCAAATAAAGCCTAAGGGTCAGGCAGCCTGTGCTCTGTACTGGGCAATCTGCCCAGGGCAAGTCGTTCTAATAAGGCCCAGCGTGCCTTTGGATAGTTGGTAAACCATTAGTCCCAGATCTGGGATGTATTTTTTCCTGAGGACTGAGATGCCATTGTCTAATTAATACAAAAGATTCCTGTGGGTTATATGTGGTTCAACATACAAGTCTGTTCAGTTACAAGTTGGGGAAGGCTTTGAAGAGGAAGCTGTCCATGCCAAGGTTAGAAGGGTTTGTAGGTGTGCAGGGCTTTCCTGGATCAACAAGAAGGATGTTTCCCAACAGATAAGTCTGGAAGCCTGGGAGAGAAAGCACTGTGTCATCAGGAAACCAGAGAAATGCAAGTGACAAGGCCGGAAAGGGAGGATGGCCAAAGGAAGGCTGGGTGTCCATGCAAAAGTCCTTTCCAGTTATTTGATGGATGAGAGAGAACAGTGGCTGGGTGTGCAGGGAGACAGCAGAGGTACCACTAAACAAGGCAGAGAATAGAAGATGGAGATAAAGGACAGAAGATGAAATAAGACCCTAAGTGACAGGGTTCAGTGGAGGTTCCCAGTGCCAGTTTTCTTAGCCTGGGTAGCATTATTAGCAAAAATAAAGGTAAAGCTTGCCATAATTTAATGTTTTTAATTCTTTTAAAATGTTAATAATTTCTCTAGTATCCTTATTAATTACCTTCTTGAGCTAGGAAGTTTAGAACATAAACACTTGCTGACACTAGGTCACAAATATCTACCTATATAACCTATGGCGGCACACAACTCCCGATCACCAGTCAATAAATACAAACTAAAGGGAACGAAACCTAGGCTAGTTCCTCCAACTACTTGTTTGCATAGTATTTGGTGTGCAAAATCCTGGCTGTTTGTTCATGCCACTTTTCTCCGTACGTTTTAGGGCCACTCGCACAGAGATCTCTGTGTGTGTCACAGAAGCACTCGTTTGAAGTCAGAGTTGGGAATTCCATGTTTCTAAGTCTTCTCATGAGGTCACCTTAGCGGAGATGCCTGATCTATGAGTACAGTGGAGAGTGCAACAGCCGCAGGAATTCCTGTCCTGCAGGTAACTAGCAGAAGAAATGCCCCAAACGATGCATTCCAAGCAAGTTCCTTCTTCACCTACATCTACTGACCGCTGTGTTAGCCTTCACTTAATTTGTGCATTAGTGTGTGTTGCCTCATTTAGACTTTAAAACTTCGTAGTGTGGATGCTAGTATCGGTCCTCAAttttgttttgtgttttgttttgttttgttttgtgtttgtttgtttgtttgtttgttttttcgagacagggtttctctatatagccctggctgtcctggaactcactctgtagaccaggctggcctcgaactcagaaatccacctgcctctgcctcccaagtgctgggattaaaggtgtgcaccaccaccgcctggcAGTCCTGAGCTTTTGAGATGAACATAGAAAGTCAAATTTAAAAACATTCTACAAACAGTATGCCTTGGGTGTCAAGTGTTCAGCTCACTGGTAAGGTCAAATGCGAACTAAACTTCATGGGTGAATTAGGTAAGTCCTCTAACAGAAATAAGGCATCCAGAACGATGAACAGAAATCCTGAGTGATGAAGTCGGGTGGACTCTTCTGAGGGGGTTACATCTCAGCTGAATTCTCAGGGATGTGGACCAGCAGAAAGTAGACTTGGGCAGCAGGTCCCACAGTCTTCAACTAGAACTGGATCTTTATGTTTGAAGAACAGCCAAGAGGTAGTGGCTAAGGCAGGTGTGGGCTGAGAGGTCTGAGTTAGGGTCCTGACCAGGTCTCCCACCTTCCAGTGCTTCAGAAGGAGCCTGAATTTTATTTCAGCAACTGAAGGCTGCAAGTAGGGGAGAGAGATGATCTTAACAAGTGGGATGAATAATATGAGGGTGGATGAAGCAGAGTAGGAGGAGTCTGGCTGGCTGCCTGCTGCAGTGATCCAGGTGAGAGGTGAGTGTGTCATGGAGTAGGCTGGTGATAAGAGATGAACCTAGTTTGTGCTCTTGAAGCCAAAGGAAAGGAACAGCTTAATCTTTAGCAATTGTGTTGCTTGTTGCCCACCAATAATAAACTTACAGATTGATTTATGAAACAGCTTTCAAGGTCTGTTAGTAAATTTGACTTGGATTATGTCATCTCCTACTGCAGGTAGCAAGATAATCTCTTCATTAAAATTTTGCAAATTCTTTCAATGTTTTCTTTTTACCAGAGTCTATTTTTAGAGCCCCCTCCACCCCTCCCCCCCAATTTAAAGATAGGGAACTTTGaagctggtcttgaacattcaacctctttgtctctgctttctggaattacaggtaggataggcaccacctggcctggATTCACAATCTACTTTTATAATAAATTACCTACCTACAAAGCAAAGACCAACCCAAAAGTGCTATCACGTTTACATATGCTAATAAGCTCATAAATTGATTCAATGGAAGAATAAGGTAAAAATCTTTAAGTATTTCGGTTATAGGGAACTGAGTGGGTGGGCAGGGGGTGTTGAAGAGAGAGATTGTTTTAGAGGTTAAACTATGAGAACCTATCAGAAGCCCTCTCACATTAACAGCCTCACTGGACACCAGCAGCAGGACAGATCCACAAAAGGGACACCAATGGGTGTCCAGAACTCATCCTTATCCTTTTTTTTTTTTTTTCTTAAATTGTGCAAAGAGCCATTTTATTTCAGGACTCCTCTGTGCTTTTCTATTGACTAGCTGAAAGAGGGCCTGGATGGTAAACGCTCTTTTATTGGAGGAGGAAAAAACTGCATTATTGATGATACTGCAGAGCAATAAAAGACATGGAAAGAGGTTCATAATTAATGGTGTGAAACACACACACACAAAAATCAGCTTGCAGACAGGTTATGCAGCACAGTTTTTGTTTTCAAATCTGTACACGTGTGTGTCCACATGCGAGCAACTTAAGGACGAGTAGAAGCAGACACTCCAGACTGTTGGACATTTGACTGGAGATATATATATATACTTTATACACATTTAATGTATTTACATTTTAAATATTTTCCTTGGCATGTTTGCAAAAAGTTTTCCTTTTATACCACAAATAAAAAGTATAATTTTCCAGTGAGAAAAAGATTCTCATTAAAGAGAGAGAGAGAAAAAAAAAACAAAACCAAACCTACTATATGTTTCTAGGTCTATTCCATTgggtgtggcagtgtgtgcgcctcagacaccagcacccttgagagtaaggctaagccagggaattacaaattctaggtcaacctgggctccaaaaatcacaaaccagcAGTGCCGTTCTGTTGTATAAAATCCTTTCCTGGAGACTTCTGTTCCAGAGTGAGTTTACTCCCCTAACTTTACTTTACTCTCCTAACTTCTGGGTTGACATTTCAGTCTTCTCAAATTCATGACACAACTAACTTCCTATATGAACATCTTCTCTTTGGTCAAAGAGAAGCGGCTTCCCCAAGCCTTCCCCAAGCGGCTGCAGTCCCTGCTGCTCTCTAACTCTCTCTCTCCCTCCATTTTCAATCAGCCGGCAGAAACCTCAGATGAACTCAGGAGAGAGCACTGCTCTGCACTTTGCAGACTGGCATGTGAACTGACTGCTTAAGAGGAAATGCCATAAAGTGAGTTTACTCTTTACTCATAAAACCCCCAGAGCTCCAGGGGGTAGGAAGTCTTCTACAGAAATGCAAATGCAGAGCGAAACCAGCAGCCACCAAGCAGAGGAAGTGCAGTAATCCGTTCAGGCTGCTAGTCTCCATGGAAACGCCATTGAGTAAGTCTCAAGTCTCTATCAGCTAAATCACTGGTTACTTTATTACTACAGAAGAAGGGGGGAAAGTCGTGGATACAACTTGTTCCGGCTTCAGAGACTACCATATATACTTTAATAAACACATTTCTTGAGGAACATTTGATCAGAGCTACCCAGGGCTACCACGGAATGAGCATAAGGAATCAAAGAGCACAAGTCACACTAGCTTGCTTGGAAGGTTGAAAGACTGAATTATCTGTCCAAGAGCCTCTCTGTCATCACTCTGGCTTGCAGTGACAGCTGTCACCCTTCACACCCTTCCAACTCTGCGGGTTAGAGCTTCTCATGGGAAGATGATAATATACTTGTGAGAAGGAAGTTTCAAAAAAGTATATTTATTTTTAGTAAGGAGGACATTGGTTCTATCTAGTATATTTGTACAGTATCACAACTTAAATGATAGACACAGAATCACTAAGAGGGAAAAGAATATACTGGAGCTGACTGGCTTGAGGCCTACCAGCCGCCTAGCTCTGTGAAGCCAGGAAACAGCAAGGGGGCGGATGGCTTTAGTGTGTATGTTTTGGTCTTTGGAGTATTAGACTCAGTAATATAAAGCAATGTCACCGATTTCTTTATACTCAAGTGATACTTTAAATCTCATAAAAGGTTATCAGTGAAAAAGTTGCTTCTGATAAAACTTATACTGCTATGTCCTGAAGTGATTTCTCTTATGTTTTTGTCTAAATGAGGTATGTgagagagagagagagagagagagagagagagagagagagagagacagaaagCATTCATCTGAGTAGTACGGAAGCTACACAGGTTAAAGATTAAAGGCTTAAACGGAAACAAGAAAGCATACACTCCCTAAAGACTTTCTAATACATTATCTCATTCAGGTGTTAGAAATACTCTCTGAGCCCGGGCATTGTTACTTCTGTTCTATGGAGAGGGATAACACCTTTCTTTGTGCTGCATTATGATAAGGGTAGGAACAGGCGCCCATACAGCAAGAGAGGAAGAATGACAATAGCTCTTACCCAACTGTGCGTTTGCAATGATTCTGACAAACAGCTCCATCTACAATGAGTCAGCCTGAGAACTTTCTGGAACTACCAGGGGAAGTAGCGATGCCAGCATAGACAACCATCAAGACTCTTCAGCAATTCTATGGTGTTACCACTCACTCAACCCAAGCTAACATACCACCCCACCAACTGtctatagaagaggcaactgaaccctgaaattcaccaagtagtggtcctggagatcccaaagtttgatggtgacaaagtggacctggaatccaggatttctaccttcacaagccctacctcccagcGTTGTGTATTTATTGTTAGCCACAGTAAAGCAATAGTTTTCAACCCCAACAAAATGTATGATATTGTTGAGAGTCTGGTACAGAGAGGACTCAAATGGAATGAGAACAGATACTAGCCACCTCAGAGGTATGCAACACATCCACAAGACTGAATCCTATTCAACAGCTACCATATGCTACTCCTTTTCAACAGTGATTTATCATCAGAGCTTtgtgctggctcaggtatgtcaactcgatacaagctagagtcctttaagaagtcaattgagaaaatgccctgaacacattgcctgtgggcaagcctatagtgcattttcttgattgatgtttgatatgggagtgcccagatcactgtagttgggaccacacctggattggttgctgaacaagcaatggggagtaagccaataagcagcaccttccatggcctctacattgattcctgacttgagttcctgccctggattcccttgggtgataggttgtaagatgaaatgaaccctttcttcctcaacttgctttctggccacagtggtgttttTTGTTTTTGTTTTTAAATTCACTTTCAAGGGTTTGGGGTTTTGTTTTGTttttttgagattataatataatcacttcatttcccccttagcattctctcaccccaaactcttcatgtgcccttctttgctctctttcaaatttatggctgctttatctttgttttcttttccttttgctctctctctctctctctctctctctctctctctgtttgtaaaagcataaatataacttgctcagactgtataatgtgtttggatgtgcactttcatggctgaccacctggttttggatgaccagttgaggtgctcatccgtctcagcccagcatgcctatggctctttgtctagggttgtagccttcattcatgttagcatgtctattggtgttatAAACAGactttgaaagccagaagcactgtattccaaggcctaaaagacatgatggctagcttaaattaataaaacatagcaaaactatctggcatagttgaatgagagaaaaacttcccttgacataaatgacctaaaaaattatatatccaacaaaccaaacttaaagTATAGGTAGTGTCGAGGCGTTTCACCCCAGCAATAGAAATCCTAACTACTGTGGCCTTCTAGAGCCAAGCCACAAGTTTAATGACAGATGTTGCCTAACTGAAGCTTGTAAGTCTTCTACCTTTGTTGTGCTTTGTACTTTGACATACAAATGCATGTATTTAACATATAGCCAAACAAGATATTTTGTTTCTCCCCACTTTATTAAAGAAGGTGATTAGAGAGAATATCATCTCTCAAACATTTCTCTTTTCCAGTCTTCACATAAAACAATGATTGATCCATATGCACGTATATTTATTCACataaataaaaataatataaatatatattaaGCTGAAGTTTTCCTGCATGTGTTGGGAGTAAAGAGTACTTTCTTTTACCTGGGAAGAGCGGTGATTTTTCCCCATTTTTCCACACAGAATCTTCTTGGACCATTACTCCCTCGGAGAGAAGCGAATCCTTCATAGGGAATGCTGGATGTGCCTGTAACAAACTATCAGCCACAGAAAGAGAAGGGAAAGCTGAAGTCAGAGACCTGATCCAGGAAAGGTACATCATTATTGCTGTAAAGCACTTCCGAGGAAGAGGGACAAGTAGGGAATTTCAGAAGCCAACGTGTCATCAACATAGGACAACTAAAGAGATAAAGGGAAAAAGAATGAAAAGCATTCTGAGTGGCTGGCCTGCTTGGATGTTAAGCCAGGCACACTTCCTACGGCAGATGAACAAAATGAGTCTATTAATTAAACCAAACCTACTTATATAATCCTATTATCAATTTGGTGTAAGTTTTAGGAATTTTGTGGGCTGCAAATCTGAGTTCCATATCCATAATCCAAAAGCGAAATCTAAGTCCAAGTCTAAATTTAAGGCTCCACCTCAGTGTCCAAGAGGCTTCCTCAGATCTAATGCTTTCGTGGAGCCTTACCAACATTACCCTGGACAGTTTTTACAAATGTCACGAAACACAGTGACTTCTTCTCCAAAATGCCATTGCTCTGCAAAGTTTGGAAAGTCAAACTAAGGAAGAGGCCTATATCAACAAAAAAGGGTCCTTTCTTACAGTACTGAACACCCTCCCTTTTTCTGCAAAGGACGCTGACTGCAGAGGGCCACAGGCTGTCACTACAAGGACCCACCTGTCCTGAGGGCATATGGCAACCCAGGTTTTCTGAGACTTGCATTGGCACTTCACTACAGGCCTCAGGAAATGCTTTGATTTGGTTGGTGGTACAGTACACAAAGTATACACTCAAGAGGGTATGGGAATGTCATAGCCAGATAAACAAGGCTTGTATTTATGAAGAATATCTAGCAATTACTAGAAAGTATATACCCTTCCAACAATATATTATTGTGTTAAAGACTGATGACCTAATGGCATCTTACCTGTAACAACCTTAGTCGTTGTTCATTGTTGAATCTTTCCACTGCAGCCCAGAACCACCGAATTACAATGTGATTGTCATGGTACCCTATGGACCAAGCACAAAAGCTCATGTGACTTGGAGTCTTCTATCTTAAACCACCCAGAAATATATGCCAAAAGACTACCACTATACACACAAATCAGCATCCTGGATTCTTTAAATGTTTACAATTTAAGATTAAGGAACAGGACTGCAAATATGACCATACATGTATCAAAAGTTAAATAAGATGGCACAAGTGAAACCAACAGGAAAACTCTGTTTTCATTTAGCAGTGAGAAGAACAACAAAAGAGTTACTTTAGCTCCATCATTTCTGAAAAATACAATTGTGCTGACTAGAAAGGCTTTCAATCATTTCTATAAGAAACGAATCACTCAGTGGTTTCAAATACCATTATTCCAAACACTATACTAAGCTTTGGGGGCAAAGAAAACTGACCCTCTCGGGATTTCCTGATGAAGGAGAGATGTATTAATCACACAATTTATATATGCAAAGAAAAACAATGAAAACAATTTTAAAGCTGCCTATTTCGTTTCCAATTTCTTCCCTAAAAGCTATGTATACTATTCATAATTAATAATGAGACCAAATTACTGTgactggagatgtagcccaatggcaaagcacttgcctagcaagtgcaaggtcttagattcaatcctcagcactacagaaaGAATTAAAATTAAAATAAACAAAACCAGattattttttataatatttattaataaaCAGGAAAGAGATCTTTGACTTTTCCAACTAATAAAGCCTAATTATCACAGTTTTACTTTTATTCCATATTTCTGCAGAATTTAATGAAGTGTCAAAAGAATTGTCTCACAAATTTGGGTTAAAGCTGTAGTAACAGGTTTTAAAACCTCTCAGTAAAAGATAATTAAGTTCTAAGAGAGAAGGCTGACATGAATTCATGTGCAATCAATGATTCGAATCAACTGATAGTCACATTTTACAAAAACTGCTTTAATTCTGTGCTGTACTCCCAAAAATGAGGGCGAGTCGGGATAACTTTAATCTGAATGTGTCCTCGTGCTCCCAGAGCTGTGAAATTTACCAAGAAATCTCACTTTAGGATTTGCCATTTCACCAGAGACCCTTATTCCCCTCGAGAAAGAGCCCAAGTGAAGGATAAGCAGCATTAGGCCGGTTCTAGCATCCATCAGGGTCCAGGCTTTGGGCAAGACTTGGTTAATGAGCGAAAGATGGCTGCATGAGCTGCTTGAGGCACTACAGGTTCCTGTCCTTCAGAGGCAGCCCTCTTCTGCTTTGCCCTGACTGTTTGTGCCAAGCCTAATTTGAAAGAAGAACGACTATCCCGTCGTCTCGTCCACAGACAGCTGCTGGATGAACAGATGGTAGGCGGCAGCACAACTGCTTTCTCTCATAGTGCCAGCTAGCCGTGCCAGGCCAACACGGCAGCTAAGTGTCTTGTCCTTTATCTGGTCACTTCTAAGGATCTCATTTGGTAAGATTTACCACTAAAATAGGCCCTGGATTTACTCACATATAGTGATTTAAAAAAAAAATCTTAGACTGTGTGAGTACATGAATGATTTTGATTACTGCACTACTCTAAGAATCTTCTGGGAGTCAAGTACAAGGAAATAATAGTTACCGTGAAAGTGAAGTAGGAGATCAGGGAAAGTGCATTTTAATTAGTAAAAAGAATTCAGCTAACAAAGCTTTCTGTAATAACCAATGTCATATATGGATGCTACATGGGTCCAGATAAAATGTACTTTACAGTTTGACTTCAGAAATAAAAGTGATGGAAACCTCAATTTAATACAGAGAAAACCCCAACATTACAACTCATCCCAGAAAATTCATGCATTCTTTTTGTttttgtttttggtgtttgtttgtttgtttgtttgttttcgagacacagtttctctgtgtagccctggctgtcctcgaactcagaaatccacctgcctctgcctcccaagtgctgggattaaaggcgtgcgtcaccactgcccggcAAATACATACTTTCTTTACTCAAAATTATTAGACAAAACTTTTAACTCTGGGCTGTCCTTAGGTTTCACCTTTTAAAATAAGGGACAATCTCAATCATGTTGGTCCAAATTACTGAAACTCTGCTGATCTACAGGAAGCTACCTCCAACGAACCCCAATCCAAATCATTTTACATCAGTTCTCAGCCAAACTCGATAGTCCAGTTTACAAGAACCTTGCAGATGGAAATGCTGAATTTTAAGAACCCACTCTTGTTCCCTGTTAGTGTTTTAACCATGAGTTATAACTGATAGATGGTTCAAGGAACTGCAGCAAACCCTTGCAGGTTAGGAAGCTCAAAGGGTGTGGCGTCTGGAAATTTTGACTGTAGATGGATAGGTGGGGTCTGACCAGTTGGATAGTAAGCCTCCCATGCCTCACCAACAACGTCATCTAATACTTAATTGGTGTTCTTTTGATCACATTTCTTCACCAGCAATTAGGAGTTATGACAtcctcaaatggggtgtaaacagtccttccccttttgactaatgaagtcactaggtacagaagggactgaccttgcccaaggtctcaaggaaagcagcaacagacagaccagtgattaatgcaagcgccttggtatgttctatatgctcagacctgtgATTGAACTAGACTCCCTGGAACGTAAATCTAGCCATTCATAAGCCAAACCTTACCGCCTCTGTATTCAGTGTTGTTTCTCCAGTCATTGAGATCTATCTCAGCTGTGCCGGCAATGACCAGTTCCAGCTCTCTCGCATCAAAGACAGACACTAGCCTGGCATCTACTACCTGTGGATAGAAAAAGCACAGGTATGACTTAGAAACTGAGAGAAACAATCAGCCAAAGGAAGACTTATAAAAAACACAGGGCACAGGGAATTTCAAGAGCACTATGGTTATATCCTCTACTGGTATGTGAGAACTTCTCATACTTTCTACAGATGGAAGTTGTGTTTCTAGTTGAAAGTTTGTAAGATTAGCCTCAGTAGAATTTTTGTTTTGGTTGATCACCATATCCCACTGGATAGGTCTCCTCTGGTCTCAGATGCTAAGCAAGGCAAAGCTAAGCAAGATGCTAAGTCTGATTAGTACTAGAATCAGAGGATTTTTGCTTCATATGTGATAACTGACCAATATAGATGTGTGTTGTTTTGCTTGTGAAAAAGAGCTAGAGAGTTGCATGGAATACATGTGATAAATTCTGGCCCCCACACAGTCATTGCATATGTCAAGCATGAGATTTAATTTTGCATACCTAAGCATGGGTAAGAATTATAACTTTTATGTTATCAGTAGTCATTAAAGCATTAAAGTGGTACAGCTAAAATCAGCATCCCATTCACAGTGGTGACATCCACAATAAGCTTTCACGTGTGTACCTGGGGATATACAGGAATATATCTGACTTTTTATATATTAAAAGGACAGTAGTAAACACAGCAAGAGAGAAGAGAGAAATAGTCTATGCATGAAGCATGGCAGAATGGACAGGCAGCCTGGCTGTGGGCTGTGGGCCAGCAGATGTCGGCCACTGCTGTTTACCTCGTAGAAACCACGAACTAGGCTCTCTGTCTGCTGCACCACACCCCTCTCGATCCTCCACTTCACCATTCTCTCGATGTACTCCTTCTTGTTCTTCTCTGTGACTGGAATATTGGCTCCCCCTGGTTTTAACTCTCGTTCAGTAATCTGTCATTAAAAGGCAAAAGAACAGATCAGAAAACAAGCCGGGATCAGGTGTATGTCCCTTCCCCACCTTGGGTGTATCCCGAAAGTGGGTAAGCTTCTAAGGcagtggttctcaaccttcctaatgttccaaccccttaatacagttccttgtgttgtggtgacccacaactgtaaaattactttcattgtttataactgtaattttgctactgctacgaagcataatgtaagtatctgtgttttctgatggtcctacatagcccacataaaggtcttaagtgactccgcaaagggtcccacaggtCAGATATAAAGATCAACTATGCCTACAGAGCCAGAAAGGTGTACTTAAGGAATACAGAAAGACACTCCAATAAATCTTAAATGGAGAGTTCATTTTTGAAAGCACATGAAATACAGGCAACCCATGTAAGTACCAATGCCTAGTCAGGACTACTGACAGACATCTTGTAGTCTTCCCTTCCATCAAATTTCAAGGAAAACACATCTCTAAAATATTATTCACATTCTCTCTGTTTCAAAACATCAATTACAGTTTTAAAATCTAAAGAGGTCttaattttatattaattaaaattaaataatttaatattCAACCCAAGGATAACATTCAAATGCATTCCATGTAAAATACATTCTCATATCTCTACATATATCTAAAGATTCTCACATCTTGTATGAGAATTTGAGTTGGAAATAAAAAGATTGTTTACAGCATATAAATGTTTCTCATAGTCTACAAATGAGGACCTCTTAATCTGTAGTTGGCAGAATTTTGCACTATATGCCTTTAGCTTTAGTTGCAGTTGTAGTTAATCTTTGTACTTGAGCTTACTACAATTTAGTTAAATCACCCAATAAGACACAAATACTAACATGTGATCTTAGTCATGGCATTAACTTTTCCCCAGCCAATAGCCTTCAGTTAGCATGTAACAGACCTGCCCAAAAACTTCTTCATTCACAGTGAACGTGAGGTCCAGGATGTCATGGATGTCATTGTCTTTCATCCACTGAAGGCTCTGGTGGAACTCCTCATCAAGGTATTCCAGATCACTCAGGTCACACAGGCTGAGATGACAAAGAGAAGCAAGCACACAGGCCTTGGTATTAGCAAATCCCAGAATCACAAGGAAGGAGGCTCAGGCTTCATGACAAGAGAAAGACCCATTCAATAGGCTGTGGTAGTTGTGATGTTGGTGAGTTCAGCAATCACACTACTGAAATAAGTCAGATACATGGTATATGTCCTTCAATCTGGGATAACTACTGAAATAAGTCAGATACATGGTATATGTCTTTCAATCTGGGATAACTACTGAAATAAGTCAGATACATGGTATATGTCTTTCAATCTGGGATAACTACTGAAATAAGTCAGATACATGGTATGTGTCTTTCAATCTGGGATACAGAAGATGCCTTAGGAAGCACTTACCTATCTTTTATCTCAAAAACAGAACCAAAATGTACAAAGAATGGCTGTCATCTACATGGTCATCTACAACCACAGCTAGTTCTAGAACTGGAACAAGTTGACAACTTGCACTTGTACTCTCTTTAGCTACGATATCCTATCAAGAATTATTGTTCTCATAATTTGAAATAATTTATTGATTTTTCTATTGTGTATAAGCTATGTTTTTCACTTGTCTTTTCTAAAAAGACTAGATACTATAAGTATTTCATGGTTCTTATTCTACTACTCTAAAAATAGTAAGCCAAAGAACTCTTTCATAATCGCAGTTTCCTATACCTCACTCCACTACTGTTTCTTCTTTTCTCTGCAGTGACAAGATCTAAGAGTTACTATTATGTGCCTTGGTGTAAGGTGGTAGTAATTGAACTGCTACAGCTATGTTAAAATTCCCTGCCCTTTAGCTCTATTTCAAGGATTGTCttgtttattttatttatttgtttgtttatcttatttatttacttatttGGCATCGAATGTGCACCATGCATATTAATAACTACTTAATGAACTTGCTGCTCTTGAAGGGAAGTGGTCTTGGGGAGACAGGTACACTGTGAATAAGTTAATATAAAGTACAGGTGGCATCACAGAGTAGAGAGTGCTAAAATTCATGCACAATTTAAAATACATGTTACTGTCAATCAATGATTGCTAAGACTGGACATGGTTATCttccaacacctgggaggtgtgggtaaggactgtgagcccagtctgggacatagagtaaaacttttgtctcaaaaaGGAAAAGGAAGAAAAGGTAAACAAAACCAAGAGCTATCAGAGGAAGTGAGCCAAGAGGGACATTTGCGTTGACTTGGACATTCAGGGAGACATATTATAGAGATGATGCCTGTACTAAATCTTTCAGGACTATGATATTTAGAGATAGAAATGGAATGGGCTAGAGAGGAAACAGGAGAGGAGAGAAAAGAGGAGATAACAATAAAAACAAAGCTAAAGGCATAGAGTGCAAAATCCTCCAAGCCCATGGAGAGTCTTGGAATACTGAACATAAGACACTCTTAACAGCCTAAGAATGAGGACAGAAAAGTAGTTGGAAGTGAGTTGTCAGTGCCACTCTAAGAGTCTCAGTGATTCAGGCTCAAGACAAGGAATGATGTAATCAGATGTGGGTGATGATCTATAAAGAGGTTTTCTGGAAGATACTGAAAAGATTATCTAAAATGGGATGGAAATCAATTATCAGACTACTTCAGCAATGTGACCAAAGTAAATGTTCTAGTGAGGGAAAGGCTATTAAGAGTACAGAGGCAGGAACACAGAAATTAGTAAAGGGTTATACTGGAAAGGAGTATAAAGGAGGATAATCTAAAATAGGGACGGCAAATGAATTCATGACACAGGCCAACTCTGATAGGGACCATGATGCCTGAATTCATCAACTTTTAGTGAAAGGAACTGAAAAGATTTAAGGTCACATAATTTCAATGGGAAAAAGTACATGTTCTTTCAATGGGGCCATAAATGAGAACCCTCTGTTTCAATGGGAACAGAGACAGGAAAGAATGCTTtgatggttaatactgtaaactgacaggatctagactcaccaacgggatcatttatgggtatgtctatggtcagggaAGGGGACAGGGAGAAAAACCTTATCTCAGACAGATTGTAGAAATTTAGACCTTGATCTCATATAAGAACAAGGCAGGGGATAAGGAAGGAACATTCTCTCAATAGATAATAATAATAGTTTAGATTGCTTTAATTGCTTTACATTGTTTTATTTATCAAAATGCAAGTCGTTATATGTTTGGTGGTTATGGTATTAAAAATCCTCTGTGAGAGAGGTCAAAATAGAGTGGGCCTAAAGAGAAAGGAGGTtgctaatttgaatcaatctatacctttgatgattttgggatgctagactgaggacatgctattttgggagagaggctttgtatttgtattaataggaaagaagaaaatactttgaaccccttccaaagtgatatgaatcagatatgataggagaagaccccctgaagattttttggctaaagacagaaaagaaaaattcgagaaaatcaaacaggacaTAttcatatattgcagaatgtgcagctctgatgaaattcattctcgggaacaccaaaatgacctattggtccagctccctgcctcctgaagctgtttccagagacttgctcccagaacagcttcagaaatagctggtgattcctcatgacctcagttcatccagagtttcagatggatccggtcaaaacttcagtcaagccctgagccttctaagcatacagagactggataagagacactaaagcgagctttcttaagtctaatcaaattttccaattttcttctccttccccacacatgtaaaaaaaaaaaattatgtgtatatgtgtgtgtgtgtgagaagaagccatagagaactgtcatccctattccttgggtttgagtatctgcttatagttattttataaattatagctaggttgtcattttaagagataatttggaaatggtcataattttgaacaggaaggaaactaaatagacttgatgatttctgtctttcctttcctcttctctatcctttctttcttaggtaaaaggaatggggttgaaggggaaaagggggaatagaataatattataaaaattatatatgagacagattgctaaatttattcttaaacaaaacattatatagccataatcttacattgacagacagctttataactaatgtaaaattaaagttataatttcttatactggtacagaatttatacattgatacaaatttaaggttttctttgttattctctgtatattgatacaaaatttaaaattaatattgttactctccgatactctcattgtgcctatgcaaatcatttaagactcagtccttctaatagctgctatcacaaactgtttaagtaatataatgtaagtaccagatagtaaaatcatggttatattagattctgaactagttataacaaaatgttttcaatactattcaaatagaaatagctaagagtagtcaaggtttaacagttcagatatactaaatattgacagtcttcaaaaacatcaaacatccacatttaaattcattatttaaatatgacatttaaattcattattaataaattttttgactgggagacatgtctacttctggcagatatccttcacagttcaaagaagatattaaacatcataacctctatatagagttgctccaattgtgacaaggtagccactggacaaaaattgccctaattcatctacagacaaaaaatatattgtccaggaaaggacataaaatgtgatatagtgaacagcttagctctgccaagagaaagtaaggtagtcctcatattcctgctttactaaggtctgtcagatggttctgggccagaaggctaaagagagatgcttcagtgttttgaggaataggggactgtccaggtgtctctacaaacttgtttaagttttcaaaactgtgtttttttaattcctatatattatattcctaaatattcaggtaatatttaatttgttcttagatctctgatggtattaaagactagactttaaaaaaaagatttatttattttatttatataagtatactgtagctgtcttcagacacaccagaagagggtattggatcccattaacagatggttgtaaaccatcatgtggttgctgggaattgaactcaggacctctggaagagcagtcagtgctcttaacaactgagccctccagccctttagttatagtcttataattaaacttaagttgtttaacattttaaaagatgatctagatttaataggatggttttctgatggtaatgcaaattaaaatcaaaacataattcagatctaaaattataaactcttcaagttaagctagatgttagagtaatgtacctaaatggtcaaaattgatagactagatattattagtatatatcatacactatagtttatgtaactattataactatgctcaatatatatctgagaggaaaggcctttttaatggatgaaaagagggaaTTTttgtggatttggcctaatgctacttacgccaactgggtccccaaaattgcacgagaatccgtatgaaagatgctaatggtccctgtcccagttggttttgattggtaaataaaattgctggcggccaatggctgggctggaagacagaggcaggatttttaggattcctggaaagggtcaggagaggagaaaagagagaactactatgccaggaaaaggagtaaagaccaggcctgagaagtgcaagacagagagacagccaacaagtaagaacccaagaagagcagccccaggacccctgtttagggcaataaagatggaatatagagtttagtaaataataactcaggaatatcgaagggggtgtgtgttagtcacatagaggtttgggagtggtctaagcactgaattgcttaagatatattaaaatataaggctacatgtatatatatctttctgtcaggaactcagaacattgggttgattagagaagaGATTAATTGGTAACTACAACAGTCCACATGAAAGCTTCTGAACACCAAGGTTAAGGGCAAATCATAGGAAAGGCCACAGAGGAGCAAGAAGGTGAACAAGGGGGAGAACAGAATCACATGTGCCAGCATAGGAAAGACCCAGGGAAACTTTTAGTTCTGATTGTCTCTGCTACCCCAGAGTTGAATATTAATATGAGAAATAGCAATACAGTCTAAGATAGGGCTAAAAGGCATTTATCCACATCTCCTGAATGGAGGAAGAGAACGCAGACTAACTCATGGGGAGGTTGTGATTTACAGTAAATGTGATCACTGGGTATCCCTCTCACAAAACCCAATGAAGCTATGAGAAGAAGATAATGAACTGCAAAGGTGAGAGGGTGCCCAGAGGAACCGGGAAAGCAGGAAATGGTCCTTGCTGCCCAGAAGGAAAGTTTTCCTACTGAGTACACTGAAGCCTCATGGGAAACATTCTGTTGGCTTTCATTTGAGGTCAGGACTTCTACTTTAGAGAACACAGGTCCAAGGGCTTGATAGGAGGATGTGCCAGACAGCTCCCAGCCATGACTCAGTACTTGTCTACTTTGCAAGTTTAAGTCTACCCATCCCCCAACAACTGTCTTGTAAATGACTGCACACTGACTAAGGAACAAAGTGGTTTTGCTTTACAGTGTACAGTAACCATCATCATTCAGTGTGGTAGAAACAAAGAAAAATTATGAATGCTAATTTTTCGTCTGTGTCCATATACTGCCGTTTTGATATAGAAAGGTCTCAAGTAAAGCAGGGCACTGCCTACATCTACCAAAGAAACCAAAACTAAAATGGAAATGAAAGGAAAGAAAATGAACTTGTGACCAAGAGTGAGCTGTTGGAAGTGTATGAAGCAAAAACACAACGTGTACTTCATAAAGGAGTGTAGGCCATGAGTCACCACGACTCACCCACAACTACTCTATTAACAATCAGCACGGATGCCACGAGAATCTAAGGGCTGTGTCTGAAGTAAAATTGTTTTAAAGAAGCACGCGTCACCACAGATGAGAATAAACTATTGGGGGAGGAACAGACCCAGGGCCTGCAGGTAAGCCTGAAGCATGACAACTATATTTGAAATTGTAGTCGCTTTTGAAATCTAAACCACTATTTACTCAACCACTGGTTTGTGATAGCATGCAGATAAATGGAGGCCTTGATAAACCTCTTCAGTAAAGCATTTTTGAGTTTGACATGCCGACCACACAAGCACAGAGGCACTCTTACATTCTGAGAAGAGCCTTATAGAAGGGTCGCGTGAAGAAGGCGTCCAGCAAGTACTGGTGTATGAGCGCAAGGCCGAGGATCCTCCCGCTGAACCGGAACCTATGAGGGAGAAACACGAGGTGGGTGAACCCCACTGGACAGTGTCTTCAGGGCTGTGTCTGCCCTCTAGAATGACTTTCAAATTCTTAGGCACTATAGTGTGTGTCTTCATTAGCCAGTGTTTAGATTGACTTGTGGAGGAAATCTGCTCCTCTGATATTTAGGGACACCTTAGCATTACTCCATGTCAACAATGTCACTCTGTACCCCCCCCCACACACACACACATGATAATATGAGTTCCCTCATTACCTTTTAGTGAAATTTCCCCCAAACCATTCCAAGAGCTAAAGACTTGGAAAGTTGGGAAAATGTCTTCCTTAGTTTCTGTGCATGAATATTAGTTGATTTCTCTAAGGCAAAGTAGGGGCAATCCCCTTTTGAGGAAAAGCCCTTATTCAGATGGAGAAGGTTCTTTGTTCTCTCTCAAGCCTCACTCCTGATGGTAAATACCATCATTCACAAAGTATACAGACAGACATTGGTGGGGGCGGGGGAGGGGGGCTTTCCTCATGAGACACTCTGTTCTCTTAAAATTTCAAACTGCAATGCTATTCTGAATCATCTTGGAAACTTTACCATATAGATCTGTTAGGACTGGGTTTTCTGCCTGAGGTACACAAATGCCTTCTCCACGAGTACCTGGGGCAAGCTCTTCTAAGTTTGATGCCTTCAACAGTACTGTGGGGTCTGTCATTTTAGTTTTGGGCAGGCTTTGTGAGGTCAGGGCCAGCAACTTTTGACCCTCTTTATTTCCACTTACGTTAGCACAGCTGTAACTGCCAGAGTTAGGAGGCCTCTGAATTTGTAACGAAACAAGAAGTTAATTTGAAGAGTAATTCCTGAAAGCTAATGCTTTTCACTGTCAATAACCTCATGACCCAAAGAACCTTTCTCCACTTCTGGTTTTTCTTTGTTAGTATCAGTGAAAATGAATATGAACCGATCAATAGGGCTTATGTAAATATTTAAAGTCTACAAATGCAGGGATTACAAAGAGTATAATTTGGGATTTTTCAAAATAAATACCTCCAGATGGGAATGTTAAAATCGTCTCCCTTGGTTTTGGGTGATATAGTAAGAAAAAGGCAAGTTCAGCTCCCAAACTTGAAGTGGCTTAAATGTGCTGGTGAGAGGGTGAGGGGGCACTGCCCTGATTCCCCATTCACAGGCTTGGTCTGCAGCTTTCCTGGGCCACCACTATGCCCCCACCATGCTCACCTCCCTCCCCCCAGGGCCAGCCATTTCCCCAGGCAGTTAGAGAAGCTGCCTGACCTCTGCCAGAGGGACttggggtcttgctaagaaactaatcatctgtagcattttcccaatgggatacagcttctaaattctacccaactcacttaaagttgatcttatgcaatgtaatcagttatcagttgaggggctgcctgtaGAATTAGGTTTGACAAGCAAAATAAATGCCAAGTGAGGTATATAACTGATAATGTGATTTTTATACAGGAGGCAAAAAAAAAAAAAAGTTAAAAGAAATGTAGCTTGCTTCCTTTGGAGGGACGGATAGTTAGCATCACAGAAAATTAAATGAAAACAACTGTTACAGAAAGAAACCCCTTACCATTCATGATGATTGTCTACAAAGGCAGACATGGGACTTATTTGCACTGTATATGTGTCATTGGCTGAATATTCAAATAAGCCGTAATAGGGGTTAAAGAGCTCTCGGGATACCAGGAAGAAGAACTCTCTGGATGGCCCACTGTAATCCAACCTGCAAAGAGATCCACATAAAGAATAATGAGCTTTTACTTTGTCTAGGTATTAGGCATATTTTCTCCTTTGTTTAACATTGTAGAGGATGCTCACTACAGAGACAGTCCACTACCAAGGCTATCTAAACAAAAGTGAAAAAAAATACATTCTGATCTCAGTATTGACCCGAACTAATGAACTAGACATTTATACAACACATATCCAAAACTCCAACTACCCATGAGATAATGCAAACAAGAACCAGATACTCACCATATACAAACACACACATATGAAAATTTTACATGTCCAAAGCAAGACCACGGGGAAGGGAGTGTCACGGGAGCATTTCCTTCTTACAGAGGAAAGCAGCTGCATCCACTCAAAGGACAAGACGACTGCAGGGATTTTTGGAAATTTTCTGAATTAAGGGAAGCTCCCTAGGGAGCTGAGAGGCAAAAAATGGAGTGAGTGGGTACAAGTGAAAAGTGTAAATTAAAAAAAAAAAAATCACCATGGAAAATTACAGATGAGGAAAAGGAAGGCACACAAAACTTGCTAAGGAAGGTCCCTGGGCAGGCTGGAACACTAGCACTCAGACTACGCTGTAAATTCCACTTTAGTTGTAATAGCTTCAGAGGCAGCAGGACGTGGAGTGGAAGATGGTTCTGTGTTTGGGGAATGACAAGTGGCCAACAATGCCTAAGGTGTGTAAGTGTGTGTGTGTGGGGGGCACGTGCACGTGTGCACCGTATTAAAGAGAAGTTTGAAATGTAAAGCAACTTGATATGCTAAACTTAAAATGAAAAATAAAAAAATACATCAGCCCTTGGATAAAAAGTACACACACACAGATTCGAAGATGGGGGTGGGGAGTTGCCAAACACTTTTGTTTGCTTTGTCTTTCCCACCACCTCTATCTCTTTCCAGATCTATTATTTGGGCATTATTGCAgtgtgtgtgtgtgtgtgtgtgtgtgtgagagagagagagagagagagagagagagacagacagacagacagagacagagagacagagagacagagagaaagaCgcagaggctagaggccaaatattcaggtgacacccaactttgtgagacaggctctctcatggtcttgagttcaccaaacaagccatggtcagtgaccagtaagccccaaggatcccacctgtctctgcctcccagtgggaggattataagtgtgagctaacaggcttggaccttataacaagtgtgagatctggggactgaactcaattgtcatgttacttactaagcTTTCTTTCTAGAGCTTCTAATTCTAActcactatggagctctgcctaggctggcactcactatgtagatctcaaattccacactcacagagatccacctgcttttgcctctacacaccgggattgaaggcatgcactatctcacctggcCTCCATAACTGTATTTTTTAAAAATGAAATGGGATCATCTGAGCCTTGTCCAGTGATGGAATTTTATCATGTAGAAACTAATCCTGCTATAGGCAAAAGAAAGATTTGGAAAAATAAAAATGTAACCCAAAAATGGCCTTTTTATGTAGTGTTAGCAAAACTGAATTTGAATAGTGTGGACTTCATCTCTTCCCATACTGATTTCCATTTTTGTCATACCTGACTATAGATGGCATTATTTTATATATCTGACTATAGATACCATCATCTCTGATTTTTTTCAGTGCACACTTGCCTTATATAACATTTATGAAATGTCCATGTGCTATTTCAATGGTTACCTAATATACATTAAAAGAAACCTAAGTACAGTTAACACTGCCCAGCACAGCATGGGCAAAGACTGTAAATTCCTAAGTTTAAACTTACAATATACCTACAGGAAACCTGCTGGGCAGAAAAGGGCAGGCACATGCAACTCTTAGGGCCAATCAGGTTTTATACAATGACATGGTGTCCCTGTGCTCTGGGGTAACTGCATGTGAAAAGGTAAATTTGTAGCTCCAGGATAGGCTAGAAGGCCATGCTTAGGCTTCTCTAGGGCCACACAGAGGTACCTAGAAGCTCAGACTACCCCCATCATGCAACCTTTTTGTGGCTTCTTTCTACTCTCCTAGTTCTAGATTCTGAGGCGAGGCCAACAGCAGCAGACACCTTCTTCTACTTGGATGTCTTTTGCACACAATCCTCCAACAAACATTGAAATCCCAGTTGCAGTCTAAGAATTAATGTAGGTCTTCAACACAGAACAGTTTTCAACAATCTACTCCTGTTAGGACTCTATATTTGGCCACCACAGTCTCTCTTGTTTCTGTGCCTTTACCTGGTCTCTACTCCTGAGCAGATCACCTCCTTTCACCTCTCTATGCACAGGTGGGGGTTCCCTGCTCTCCTGGAACTGACCGCAACCCTGAGATGTGGTGAAGGAGCTAAGTCTGGACGATTTCCTTCACTAAACCAGGGTGAAGTCATCCCACCTCTTGAGGAAGCCACTTCTTTTTGTTTACTCTTAAAGAGCTAGTCTGCTAAATCCCCGAGGCTCACATCCATAATGTTTGACTCCTAGTCTCCCCATTCTCTCTATGTCATACAGAAGCATCTTGTCAGATACAGCTTCAGAACAGGATGCAGGCTTTAGACATTTCTCTCCAGGATTCCATTTTTGTAAGATCTAGTTCCTATGTTTTTCCATAGTGGGGGGGGGGAGCGGGGGGAGGGGGGACGTGACATCAACtgtaatggctaattgtggttgtcaacttgacacacatgggaagaaagaacctcaagtgagaaaccagtctccaccaaattggcctacaggcatgtctctgtggtattttcttgactgttgattgatgtgggaaggccaagcccctctagacaatgccacttttgagtaggtggtccaagtagtgtaagatagatgactataactctgaaagcaagccagtaagcagcattcctctgtgattcctgcctccaactcctgccttgagcgagctcctgccctggattcctgtgatgaggggctagaatttgtaggataaaataaaccatttccttccaaaagtacttttgatcgtgacatttatcatgacaacagaaatgaagctagaacaCCAATTGTCAAAGACGTCACGgaagtcattttgtcaaatttcctcactttttacagcaaagactgaggcaaagtagtgagctgaatcaggggagtgttgtgatgtggtaccaggtctcagaccctaatcaggtatcctaatttcaagtTTAAGGTTATTTCATGAGCCATACCCTTTAGTAAATGCTAGCTGTTTATCAAGATTAAAACGATATTGCTTATAGAATGgggcttggtaaactacatcagtagggcaaatctgccaaagccctggttttgtaagtaagactatactgaaatgcactgttctggcttgtgtatagcctgttgctaatagctgataaaatgctgaggtgcgtacgtgccatagagaacgtacgatgggcaaagtctaaaattgtttactatctgtctctttatagcaatgtgttgccaacggctgCTGCTACAGAAACAAGGAGGAGGGAAACAGATTATTAAAATATCTAGCTTACTATAAATCTTTAGTGAGATTCCTCCAGGGAGACATAAACACTCTCTGACTTAATATGATTGCCCCTCTGCTGGGCTCTCCACATTGCAGATATCCTGAGTATATCAGGATCACAGAGAGCTGAAACATCAGGAAAAAGATAGAATGATCCTGTTTTCTTTGAGATGACTGGTATAAGCAAAGTTGGCTCTACTGTGGATTTTCCATTAAAAATTAGACAGTGGTCCCTAAGATTTAACTCTAAGTATTTCAATAATACTGCACTTATCAGAGTACATTCTGATGACTTGTGTGTGTCGGCCTCCTTATACATAAATTTAGACTTTGCCCTCACTGAAAATTAGTGACCCTtgtgctggacagttttatgtcaacttgatgcaagctaaagttatgtgagaggaggaacctcaattaagaaaagaactccagaagattaggctacaggcgggcctgtaaggcattttcttaattagcgattgatgggggagggcctagcccattgtaggtggggccatccctgggctggtgatcccgggttctataagaaagcaggcagagcaagccttggagagcaaggcagtaagcagcaccctccagggcctctgcatcaacccctgcctccagaattcggccctacttgagttcttattctgacttcctgtggtgatgatgaactgtgatgtggaagtgtaagcaaaaataaaccttttcctcctcaacttgctttttgatcgtggtgtttcatcaccacaatagaaacctaattaagacaCTTCTTTTTGCATTATAAGTTCCCAGAATGATACTCAGTAGAGGCTCTATAAACATTGCTGAGTTGTGACTAGAGCTCCCTGATGCTCACTTGAAGAAAATCAGCATAACTTACATTGTTATTTGGCATCTGGCAGTGTGAACAAATGTAAGCCAGTTTACCCTGAGATGGTGGTACATTAATGCAGTGCCACGAGCAAAAGGTGCCAATCCCTAAGATATGACTCAATCTGAAACCACTGTCAAACAAGTGAGTTGGCTTAGAAAGTTCACTATGTAATATCTTCTAACATGGTGAAGTTTGTTAAGACAACAATGACCTTTCTGACTAGTTCCTCTTGTGGTTAAAGACAAGAGTATATTCTCTGAGGAGTTGAGCTGAAAAGCAAAACTCACCTCAGGAGAAAAGAAAACAAATAGCTCTTTTAGAAACAAAAGTACGTTGAACGTTGAACTATTAAACTTTTTAATCTTTCTCTCCTCCCCACCCCTGCCTCCCCAACCcctcctccccctccctccctcctcctcctcctcctcctcctccttctTTTTCAACTCTTGATGCATGGATAGAATCACTCCAAAGCTAAGATAGTCTTTCTACTTTACTTTGTTTGTAACTCCAAATGTAGAACTGCATATTTAGGGGTATGTTGTGGGATGCAATTTCTATCTATGTTTAGAAATTCAGTGAACATGTTCCAGCAGGGCCTGCAGTCACGAAGCTCCTATAACGCCTTAGCAACCTCGTCCATATAAATAGTTAATGTGACTCATATCACAGAGATCGTTTGTTACATTCCTGTTTTGCCGGTTAGGTTGGTTACATGGTTAAAGACTTGGCAAGGAAACACAGAAACTCTGGACAACGGGTGTGTAGCCACAAAGCAGCTGCATTTGAGGGCATTTCTGAGTAAGCACAGATGTCAGTAGAGTGGCCATAGTGTCTCAAGCCCTACCCGCTGACAAAGCATTGTACCCACCATGGTGCTGCTGGCCTGGCACATCACGAGTTAGCAGCACCTGACATGGGTTAAAATAGTTAACTTTATTCTTCCATTCTTAGTATAACAAAAATTAACTGAAAACAAAATACTCCAATAGGAGCAGTCTGTAAAATGAGAGCAGACAATGGCCTCAGGAAGTCACACTACCTCTTACCCCAGGCTTGTCCAGGCACACGAGGCCTAGGCACCTTCTGATTCAACCACAGTTGAATTTGAATCAGAGCAGTGAGGCTAAGCTTCTGAGGCCTGGGAGTTAAGTGTGGAAATAGGACCAGACAAAGTTGCTCTTGGTGGTACCAAGCTAAAGCCTGGCTACAGCGCATCTTTCTTTGACAGGTAAAGATGATTCAGATGATGCAGCTGCTTCCTTGAAGAGGGCAAGCAGCAGCCCAAGTTCAACTGAAGTTCCACAGCTTTCCAGCTCACTCCCCAATCTGGTTATGTGTGAGCCATGCTGGGTAATTGATTAGCTGTGGAAAAGTAAACTATCTTAGATCATTTTCTTTCCTAGCTATTTTTATCTCCCTATCCTGGGGGAATACAGAAAGAGCTCAAAAGAAAGATGCTACAAACTAAAACTATTTGCATATGCTCCTCCCTAGTCTAAGTGTGGCTTGCAAGACTGATGACTGATGTCATCTTGACAGCTCTTTGCACATAATGAATTCATTCTTTCTTAAATAAAGGTGCCCTTCACAGAAGTGCCATGAAAACAAAAAGACGTGGACTAATCACTGAGCAAACATCCTCTCTTTGTCTACGACATTATTTCTTCACTATTAGGCCTGGATACCTTATCAAAACCTGAGTTCTAGTACCATGTGAACTTTGGTTGCTAGGATTATTAATTAACAGAAAGGATACACTGAAGACTCATATATAGCATTTCAGTCACTGTATACTATTAACCATATAGAAGCAACTCCTAGGCAGACTGAGGGTCATCAGAAATAGGCAACAAACCATTTCTCCTCACCTTTGAGCAAGGTTACTTTTTTGGTGATGTTACCACTGCTATACTCCCCTACCCTAACTTTCTAGGGCAAGATAACCATGGTAAGCTTGGTGGAAATTCTAGTGCCTAGAATACAACTCCCAGCTCTAGCCCAACTCAACTACTAATGACAAGACAGTGCTTAGACATTATCTACTTTTTGTAAAAAGCCAAGGCTAACACAAAATCATTTTAATAAAGAAATAAGTTGCTCTAATGTCTCTACATTAATAGGCGCAAGAATAATTTTTTGTTTTTTATGTTTTTATGGCTGAAGACAGGCATTTCTATTAGAAATACCTTAATTCTACCTCAAATAGCATCTGCAGTATTCTACAGATTCCTTTACTTCTAGAACAATCTATATATTTTGTTTCAGTTATATGTGCAGAAGTGGCATAAACCAAAGTTATTGTTTCTGTGAAGCTGCTAATCCACACCTTTTTTGGAAGACAAGTAAAGGCACTGTTATTAAAACTAGGTCCACTCTTCTTTATGCTTTGGTTTAACAAGATTGAGTGTGTCAGATTGGAAATGAAATCATTGAGATAGTATCAGTAATACCTCTAAAGTATTAATTAACCCCTCATCAGTAGTATAAAGTTGACACAAAATAATGATACTCTTTGTATGGCAGTAAATCAAGTCTATATATGTACTCCACTGACTGTAAGTGATGGAAGAGGCACACACAACTGACAGAAATCCAGAGAAGTCACTCATCTAACAACAAGGCAACAAGGAAACTCAAAAGGAACAGGCTAAATCTCTCCAAATCCTGACCAAATGTTTCCACTTGCTAAACCCATTATTTTAGAATTTTTTTGACTTATAAAAAAAATACAGGTCTTGCATAGCCTATATACATTATCTCATATCTGTACAGTACATTCCTTATCAATATAAATGATGGAAACACCAAGTAAGTCCTGTAGCCACACTTGATCTTATCATCAACTTTAGAAGCCAAGCTGCTTCTCAGTACCCTTCCATCATCTCCCTCCCATCAtactctatgacaacaaaatctctgaggcaatggttgtctaagttgtttttcaggaacttggagccatgtgtgtctgtctcaagccagcagaagtgaccaactgtttacttgaacctcagcaatgtgacttagttgatggttttagatgacaccagtagtaccaTTTTTCCTGAGCATGAGTCCTGAGAAGAGGGTATCTATGCCTGGAGTGGATCCTGCCCCATCTTCCCTCTCCCTATATCAGACCATGCTGGGTTTTTTGTCTCACCAAGATATCTAAATCCTACTGCTGTGCAGACAGATCTGTGACTCAGGGCACCACTTTCTTGGGAATAAACTCTCTTTTGCAAAACTTGGTTCAGTGATTGTCATAAATGGTGCCATGttaaggaagcaatactgctgcataactattaacagaatgcattctttatccaatttcattcactttcacatggtatctcttttctgctctataatctcatctaggaagtgaaatgtatttagtcatcatgtatcttcttcaccacaacatctcttaaattcctctttttggtttttttgtttgtttgtttgttttggttttagtgtcctctatgattttcaatactggtgagagattcttacaatttccctcaactgtcatctcatgtttttcctgtggattgtctatgattacagatttgtggaggaagttcatattggtaaggtgttgtcttcactcaaaggacacactgtaaacatgacttaagactgagacaatgtctgccaggtttaacaaaacaagcccactttgctaccccccttcttactgtattatttgggaaaaagttactacacacttcacccttatgaaatTCTCGAGTTATTTGGAGAGATTTTCCTTTCTCCCATTTATTTCATCATTTGATCATGTATTCAGTCACTTAAAATTACTGTTCATgccgggcgtggtggtgcaggcctttaatcccagcacttgggaggcagaggcaggtggatttctgagttcgaggacagcctggtctacaaagtgagttcaaggacagccagggctatacagagaaaccctgtcttgaaaaaccaaaaACCaaaaaaaaaaaaaaaaaaaaTTACTGTTCAATATTTCTTCATTTTGTAGCTGAAATTATTCCCACTTTGGTTACTAGTTTCTGGGCTCTATCCTGTCCTTGCCCTCTCTGTTGGCATCAGAAACCTACACCTACACTACAGAAAGGGCACTGACAGGATAGAGCCTAGAAACCCAGTGTCAACAACTTGTGGGTAGAGGGAGTAGACAAATGGATTGTTTCTGATAATTGAAACCCTTCCCAGAACATCCTCTCTCCTTTTTTTCCTTTGGTGTCACAGGAAATAGACAAGTGACAGGGGTAGGAAGCACTTGATCACTAGTGGTCATCAAACAAGAAGGAATGTAGCTCTGCTCAGAAGTGATGCTATCAGATCAGAACATGGCAGCCCACTTCAGGATGATTGCACTCAACAAACGTCTGTGGCTACTCAAATGTATCCACTGCTAGGGCTTCTGAAGTGGATCAACGACATCTCAACGAACTGAGAAGACTGTGGCCCAagctaaaagtactgatgtacataggaagacccagctcttggggggctcaggtcatttcagcttgagagttcaaggccagcctgaacaagaccaagcaagaccatgtgttaaaaaaaaaAATGCCTGCCTGTGGTTTTATAATAAAGGAAGGCAGCTGGAGTTCTGGGAGAGAAAAATAATGTCAACCAAAGCAGACTGGTCCCGTAAGGAAATGCTTGGCATCCCTTGCATACCTGGGAAGAGGCTAACAACACTTGCCCATGGTTTCAACTGTGCACCTGCGTCTTTAAGCAAACTAACACAAGTTTACAAGTCCATTTACATGTGTACATTAGTCACAGTGGGCTGAAGGCTCAGGGAAGCTCAAGCCTGAGCTTCGTGTGTTCACTCACCACCTGGAATGCTAAAAACATTCCAAGGTAAAAAAAAAAAAAACCAAAAAAAACCCAGAATCCAGCCGGGGCTGTTTCTTAAATCCCAGTACCTTGCAAGAATACCTGAAGAAAGACTTAAGGCCTGGGCTTGGGTCTTGATTTTGCTATTCCCTAGTTCCATGGACAGGGAGTCATGTTGGGCTTTAAACCCCCACTCTATCTATCATATGATGAAGGACCACATTGGTTGGATATCACTGCTGTTGTTCCTGACTCTTCTTCATTACTGGATATGACTGAGAGGGTGTTCATAAAGTGATCCAAACTactgggcttggtagcacagggttgaaaccctggttataaggaagaggagacaggagaagtgcagttttcaaggtctcactggcctatagattaactcaaggccagtttaagcattctgttaagaccctctctcaaaacaaaaactagaaagaggttagggatctacctcagggtgctggtctAGCATGTATGCAAGGCCCAAAGTTCCTCGGTACAGCTGAATAAATAGATAACCAGGCCAACAGTGTCACACAGAACATAACCAGAGCTTAGATGACTACATAGTATTTTAAATTTAGTCTAGTAGCTACAGGCCAAAGAGCCAAGAGTCCTGAGATAGGAAGAAGTAGGGCCCATGGGGGATGTATCCAAGGCATTAGCAAGTGTTATGTCTACTGGGGTGCCACAGACTCAGTGTGGGAGCACCAGGCCTTCATTTCCCAACTCTTATCTAGATGAGCACACTCCCGGAAGAGTCATGCCACATGGTTTGTTTACAGTAGGAGGTACATTGGGAGGTACAGGGCCCCGCCCAGGGGAAGAGAACTGGAGGGGTGGGGGGGCGCGGAATAGGAGCAATGTCATTGGCATGGTTGTTGTGGGAAGAGCAGCAGGGTCTGTGATTCCGAACCAGGACTTACTTAACAAGTGACACACATTCTGCTCAGTGAGCCAGGGTAGAAAACAAGACGTAGACTGCAGTTCCTTGTTTCCTTCCTCACAAAGTTCCATTTCCCCCTTTCAAAGATAGATACaaaaaataaaaaaataaaaaaaataaaaaaaaataaaaaaCAGAACTGGCCTTCTAGTAGAGGAAAAAATAATTATAGGTAAGAGTTACTTTAATTTTAAAAATTCGATATCAAATGATTTAAAAACCAGAGGAGGTGGGGGAGGCAAAAGGTTTAAGCATCTGAGAGCAATACTTCCTGTCAGAAGGATTTCCTGTTTTGGGAACCACAGAGCTGAGGAGAAACATCCGCTCTGTAGCCACAGCTTGCGTTGCACAGACCACTTCTCTGTTCTACTTACCCTTCCTCCCCGACAAAGGTGACGTACAGTTTATTCCTCTGCAGGTCCTTTCTGGAGTAGCCCATGATCTGATTGAAAGCATCTTCCAGCAAGTGATCTCTTCGGATAATTAGCCTGTCCGTAAAGAGGCGCACAATTTGAAAAGTTCATTAAAAGATTACTTCCTTTCCTTGTCTTTCATGTTATCTAGTTTCTGTTTCCCACAATTAACTAGGTGAGGAGTGAAGTTGCTTAATATCATTGCTGTCTGCACTTAAATACATATTTGTCTTAAACTCTTCAACAGCAATAGCAGAAGTTACATAAGAAAATCATGGGCAAACCTGTGGCCTGTAAAAAAAATCCATGAGTCCTTTCTGAGGGGCCAAGACATTTTTCCCAGAAGGAAAAAAAGTCATAAGacacacacaaacacacacacacacacacacacacacacacacacacacacacacacacacacacaGAGAACagagagagagagagagagagagagagagagagagagaggcagagacagagatagacagaaaaatagagaCACATAAGAGACAGGCAGAGGTTTCTTACTAAAGAGAGAACAATATTATGAGGTAATTCTTTAAGACTAGAATGCACCTAAGCATGGAATTCAATTACTGAATGTCTAGTGAGAACCAGGAGGgtgtgtgtgtgtgtgtgtgtgtgtgtgtgtgtgtgtgtgtgtgtgtCCTGCAAAGCAAAGTGTTTACAAATGTACTTAAGTTTGAAATGAAGTGAATCTTGAAATTTCCCTAAGGGGTAGATGAAATGAGTGGTACATATGGCAGTCTATTGTGATGACGTCTGCTGCCATCCTCTACAGATATCAATCTAACCTCATCTCAACAGTAATGACAAAGAAATGACTGGGAGCTGGAATTTACAGAAGAAGATCTTAGTAATTCAAGTATGAGAAAAAGCCCAGTTCAGAGAGATGGAATTTGGGCTGGGCCGATGTCTTTGGAGGTCCATGAAAGTTGAATTGACTTTCCTGTGCCTGGGGCAGTGAGCGCAGGGGCTGGTCCTCCCTTGAGCACTCAACGTACAAGGTGACTTTCTCTGCTAGTGAGCTCAAGTTGGAACATGGGATAGGACTAAGGTAGGAAGGAGGGTAAGAGGTGTTCCTGTGGATGAAATGAACCCTGGACAAGCAAGAGAGGTAGCTAAAGAGAGGTAGACACAACATTCATGACAGGTTTTATTATACAAGTGAGGTTTGTTTCCCAGGACAAAATAGAGCTGACCATTATTCTGCACTAATGTTGGCCCAGGAACTAGTAACGTGAAGAATAAAATACTGTGATAGCTATCAGGCCAACAAAGAGGTACTCCTCAGGAGAAAAAATAACCACCTTTAATTTGCCTATAGTTTTATACAGTCCTACCTTGATTGGAAACCTTAGTAAGGCTTTATTCCTGAGCAACATTTTGCATTGTTACAGTGTAATTTATAAATTCCAAAATAATACTGCCCATTAAAATAAGACTCATGTGACAACCAATTTTCCAAACTCCCAACTGTTTCCTATCAATTCACCATCTATAAATCATGTGGTTTGAGTCATTTCTACTTACTTTAATTTTCCTGGGCCTTGTCCGTATCCTTTAGTTTCTAACTTCCTGTAAAAGTTCCTTAGTTTGGCTTCAAAATCTCTCTTGTAAGGGGCTGGAGCCCGGGCATTGGCACGCTGAGTACCTGTTGCAACCACAAAAGAACAACTTGGATCTATGCCCTGTTCAATCCACAACACCTTGAAAAAGTACCACAAGTTAGCAAGAAAAGTGAGACACCGCTTTCAGCTTCTATATCACTCCCTacacacacacacacacacacacacacacacacacacacacacacaAAGCCTTAACAAAGTTCATGGAAGTTCTTAAGAAAAATCTTGTTTGTAGCTTTTGACTAAGAATAAAGATTCTGTTTAAACAGCCAAATACACTCACGTGGGTCTCAGATATGCTCCCCCGCTTTTCCATCCAAACCAGAATGAGTCAAGTAGAGTTATTCATGTCTAAGGATAACTATTTAGAATGGAATATCTTTGCTTGCTTTTGAAATGATATCATAGAAACTGTACAGAAAGTTCCATGAAGCCCCATGAAAATGTTTTTAGGTTGGCATTATATTTAGGGATGATTTTAGAGATAAAATTACATTTATTTTACATTGTAGGGTAATACGATTAATATAAAAACAGAATTCATGCATAACTGTGGGAAGAATATATCTTGGAGCTGCACAAAGaataaataatattaatatttaCTGCATTCCTAATGTATCAAGTACTGTCCATATCTATAAACTGAAAGTATGTATGCCATTCAGTGGCCAAGTGTTATTAATAGTGTAAATATAACGTGGCTTCTTCGTCTTTCCACAGGAAGCTCTGTGCGTCCCAGGTGACTGAGTAGCATGTTGGGATGTTAACCTCCACGGTGATGGAGAGGAAATCAGACACAGACACAACAGAAACAAGGTTTTCTCAAAAGAGTTCCCAATTCAATGAAAGAAACCAGAAAGCTAATTATGGTCTTGTTTATTATACAACATACAAGTTCCAGGAGATTCCTTTCTTtgtgtgtgtgtgtatgtgtgtgcatgtgtgGGTTTTGTTGTTGTCATTTGttttgttttgctgagataggatcttgcttgctggcctggattggccttggctttttccatccgcctgcctgtatttgaggagtgtgtcaaggcttgagccatcatgccTTGAAAAAATTTCTTTAACAAATGAGTTACCCAAGGTGGTTATTTATTGCTAATTTTGTGTTATAGTCAATTTTTAAACTAGATGGAACACAACGTGTAAGTcagaggagagaaacgtaaagccctgggctctatccagcctcacaggatactttgtttgcccctagattaaaaaaagaaacaaaactttagattaattgccagtatttgaaatttttaggagatttcaagtaaaagaaaagcatgtttttctcttgaaagttatgagaaatcgtacaacTGCCATGAGCCTCCTTAAGCAGATAGGCAGCTGCTTCCTTGGACTCCACTCCTACTATTCTCTCAGTGACTCTGGCTGCCTGACCTCCCAGGTATTTGCTTTTGAGATTAGTGGTATAGAAGATAATAGCAATGTTACAGAAACGTAATGAGTGTGAGTAGAGATTAAAATGGAAAAGGCCTCCGGGAGGGCCTTAATTGGAGCCTAAGTGGttaattgccaagtcgacaggatctagaatcaccatggaaacaaacctctgggcacacctgggacagaatttctaggtctggttaactgaggtaggaaaacccaccctaaatgttagtggcaccatcccaggagctagggtccaggagtgaataaaaagtacaaagagggcttagtacctgaaatccatccctctgctgttcgattgaggatgcaaattaaccagccactgcttgccccaaccaccatgtcttcccagacaggatgtactgtatcccctggaaccataggccagaatacacccttcccttaagttgttttttttgcccagtatttgacaatgagaaatgaaataacacaAAACTTGTAAATAGTAAAGAATCTGTATTTATACTGGTGCAGAGCAACAAGAACTGGACTAAATATTTAAAATATTTTCAACAGATTGACACCCCATTAACTAGAGTATAGTGGGCACGCCGAAGAGACAAAGGGAAATTAATAAGTCAGAAGGAGCCAATGAGAAGAGGGATTTAAAGAGGGAATGTtgtgcagaaaatatcttgtatctgtatggatgtggcacctatcaataataaatctttggcccacagtttagggatgaaataggaggtgggacatcagggaggcagaaaggattctgggagagtcccagtgtgataagatgtgatgagacagacacatgtggtacttaaacacaggtaaccggccacatgacagaatgtagattaaaaacaagtgggttattttaaattatgatctaatcagggaagagcatagctatatggccaaggtatttgtaaatatattttgagtctaagtcttattattgggagcatagagctaggaggaagaacctgacctaacttctacaGAATGTGGGGCGGGAGCAGGGCACCGTTACAGAATGTGGATTAAAGAAAAGGAGAAAATGCAAAGTGGAATTTTATTGGAGGAATTTTCATTGAGGGTGTAGGGCAGATTAAGGGTGGGAAAGAGGAAGAGAGACTGAAGGGTGGAGAAGCAGTTCAGAGTTTATATAGCAAGCGAGGCCTGAGGGGATAAGAACGAGTCAGGAGTGTGGTGACTCAGAGGAACACCAACCATGAGAAATACAAATTAGTACCAGTAGAAAAGCAAGGGGCAGGAATGGGAAGCTCTTACGATAACAGAGTTTCTTAATAATAACGATAGCGATTGCTTGATAAGAACCTGGTGTATATTAGGAATAATGCACTTTCCATAGGGGAATCTTGAGAaatcctcacacagagtctataaagtggatattaaggtttccatcattgctttgctattgaggaaaatgaggAAGCAGTTTCCTGTCCAAGTCCTATTGACCAGGTCTACTGGATGCTAAAAGCAGTATGGGGAATGATGTTGGTGGCCAGGGACACAGGAAGCTGTGTAAATATTGAGTTGGATATGACAGTTAATGGGTACTCTAGACACTAAATAGGATACCTCCAGTCTCTGCATAGGAGATCAGTCAATTCCCCTGGATGAATTGAGCTAGTATGCATGACACTGTGCAGTATGTGTTATAAGAAGCCCTCGATGAGTCATCTATATACATACTCAATACATAGACAGACATATTGGAGCTTTAGTCACAAGACTCCTGATCAGTAATCTATCTGGAGGCTTGTCTAGGGAGATATAAACCTTTTGTTCAAAGAGCTAAGAGTTAAAGAAAACAAATAAATTCAGCCTTAAAAATAAACTCCAGGACACAAGAGACTCAAGcagtggctctcaacattgagcacatatcagaatctcataggaactttaaaaaattccaaagcccagtccacacccaaaaccattacatcagaacctggtggagataagacccagacctaagtgttttctacagctgttcaggtgagtccaaaactcagccacaatgaggaatcattCCACACTGAGGAATTACAGGAAGCTCAAGTCCGACCAGTGAGACACGTGGGCAGCATCCAGGGGCTGACACAAGGCAACGGCTGCCTGTGCGCTTGAAGAAGTCATCTGCACCACAAAAAGACATGAACCACAGGAACGCACAGCTGCTGTTGGATGGACTCGGGCCAAGACAGGGCACGATTCAGGAAACCCAAGAAAGCTGTGAGATCTAGACTAGTAGCCTAAACAACCCAGAAAGTAGCCATAGTGAATCAACATCAACAACAGTCATCAGTGGAAAACAGCAAATGAA\n",
      "\n",
      ">chr1:136179764-136204417(+) \n",
      "\n",
      "CTGCAGAAATCAAGAGAAAGCCAGTGTTGAGGCTGCCAAGAAGACAATGTAAGATGCATTCTGGGAAGGGGTTACTGTCGGCAGAGGGATGGGGCAGAGGGCAGAGCCAGGAAAAAGAAAAGACATCTCCACCCAGGCAGCAGCTGCTCTCAAATATGTCACAACTTGTCAAAGAGGCAGAAATAGAAGCAGTTTGGGGAGTGGAAGGGGGTGGGGTAGCATGCTATGGCTTCTGAAGCCATGTAGAGGGTGACCAGGAAGGAAGGGAGACAATCAGGGAGGCTGAGCCAGAGGTGAGTGTGTGAGGTTGAGCATGGGAGCAAAAGTGAATTGGGGACAACGTTCCCTAAAGAAACCTGTCCTGCCTGACCCCAGTGGTTCAATCTTCCGGTCAAGACCTGCTTCGAACAACCGACAGAGCGGGCCTCGAGCTGAGAGAGTGGAGCACtggctcagtggtggagcacttacgtagtgtgtgtgcccaggtcttggcttctgagcctagtacctcaaaaCCAACCAATGAACAGCAGCCACCAAAAAAAGTTGCCTTCCTCCCCCAAGTACATATTCCCCACAGAGAATGATCTATGCAGCCCGATTTCCAGTTTTGAAAGAGTTTATCAGGTATGCACCAAACAAAAGTAAAAGACAGAGAGAAAAACATCATCAGACTGGGCAATTCCAGCATCCGCAGAAGTGACTGAGGAGGCCTTGGAGAAAGAACCGTGCTGAAGTTCCCAACTGAGAGATTTCCGGGCAAAGCAAGACATTCTGTCCATTTTGGATGTCTCTGGCCTCCTGTTCCCACTGCAGACATTTGTCTACCATGGGTTAGACAACAACAGCCCCAGCTGGAAGTGGTTTACCCTTATCCAGTCTCCAGGGCACAGAATTCTCCTTAACCTTAGTCATTTGCTACACTCTTGGCTCCCTGTTTCAGACCCAGGGGGTCAGCCTGCCCTAAGACAGGGAGCCTTGAAGGACACTTGAGATCAACATGGAGTTTGAGGTGGAGTAGGAGAGGCTCCTCACTCCCAGAGTCTGCTCTTGACAAGTGCAAACTGCACGTGACAGTTCACCCATATGATTTCTCTTAAGCCCACCAGCACTTCCTCCAGGTCTACAGGTTGAGCTGAGGGGAAAGGGCAGTTGTTTagatcattggttccagcatcttggtttacaggtgggcaaactgagaaccagagaggggaaCAAGACAGCATCATGCCCCGTCTCGTATCTCTTTATCCATCCACTTCCCTTAAATTCCTGACAGCTTTTGTCCCAACCAGGAAGAGCCTGTTGTGATGGAGGTTGGGAACGCTCATAGTCTTCACCCTTATTTCCAAAGGTCTCACAGTACCAGGCCCTGGGTTCCCATTGCTGTGTGCTCTGCTATGCCCTGTTCCGGTTATTTGGAACACCAGCTCTCTGCTTTGTCTCCAACAATCACCTCTCCTGACCCCAAGTCTTCTGGAACCCAACTTCTTCTGCCTCCAGGCCCCGCCCCTTTCCCCACCCCAAAGCCAAAGATTCTTGAAGGATGATCCTGGCTCTGAGCTCCAGATTCCAGGCAGGGCTGGGATTTCCCAGTGGTTACCTGATACTTAGCCCTTATGGAAACAATGTGGTCCAAGCAAGGCCAGCATCCCTTCCCTGTACCAGTTCTAAGCTCTGTTCCCATCTACCCCCAAACCTTGTCCCAAGGCCCCAGTGTCTCTTCTCATTTTCCTCTCTCCATAAACGCTTCCCCTGAGGTCTCTCTGAATTCTCCCGATGTCCACAGGCACATAGCCCTGCACTCTCCCAGAGGCTGTGTACACACCTGCTGCACGCCCTCCTCACTTGCAATGTCACAGAGGTCTAAGCTCAAGTCTTCAAATCAGAGACACCCCGGTCCTCAGCATTCAtgaacaagtctcttttctgagcctctgtctccttctgtgtagaaggaggatggagtagtcaaccctcagctgccatgcagctttgatggccgatgatgctgtgaTCTGGTTCCACCCTGTTAAAAAGCTACTGCCCTCAACTGTAGCTCTGATGGCCTGTGATGCTGTGATCTGTTGGGACCCTGCTAAAAAACTACTGCCTCATAAATAGTGTTGGTTTGCACATCGTATTTATGCATACTTACTGAAGCATATACATACATATTACCACATAATCCCCACATAGTCCCAATAATAATTCTCTTGCCTGAGAAAACAAAAGGGGAGGGATGCTTGGAGAGGTCAGGGGCTCCCCTCTCTATACCTGCTTGCTCCTCCGCTCCGAAGCCCATGAGACTCCAGAGTGACAAATGTGCCTTGATTTTAGCCAAGCAACCTGGCAACCCAGGTCAGCCTATCAGTAGAGACTAGAACGGGGTTGGAGGCCAGACCGCCATGTTGGTATGCAGCTGAAGGAGAAGGAAGAGGGAGCAGGTGAAGGGGATTTCTGAAACCTGATGCTACCATGCAAATGAGGTCAGCCCAGCATGCAAATGGACAAAGTCAAGTTGAGATGGTCAGGGTGGGAGGCCCACAGTCTGGGTATGAAGACTTTGTAGGGGTTGGGGGCTTCCTCTGGAGAAGGCATGACCGCCTGAGGAGGCTACAGTAGGGGCAGGGGACCCCTCTGTGCCCACGCAGCAGGGGTGGGGATTAAGCTTGGACGCCCTGCTGTCAGGTCAGAGCTGATGGATCACCACTGATGGTGGAACACAAAGGAGCTCTGTGCCTGGCACCAATGTGTTCCCGTCCATCAGAGGGCAGCTAGTGGGGTGCTGAGGTATGCAGGGGAGGAAGACCAAGGGCGAGGGAGGCATGCCTCACGGGTTAGTGAGGGAACAAGGTGTCTAAAAGGCTAGTACCCCCACCTCTACATTGAGATTTCAGAAGACTCTACCACTTCAGTTCCCAAAGTATCTTTGCCTTCAATGGGACCTGGCATGATCGTCAGCCCACATCATCCAGACATACACAAAGAAAGACATCTACAGACAAGGATTCACTGAGACCCAGAGACACAGCTCCCAGCCCCACCCGCATCAAACAGGAGCAAACATCACACTCACATCCTGCAGACCAGAGCTATGTCTAGTCACTGCCCTCGTGCCCACCCAGGGACCAACACGGAGCAGGGTTGAATAGAGGAAGGAGAAAAAGAATCGATTTTTCTTCTGGGTTATATTTGTCCTTTTTTTCTAGCCCTCCCCCTTGTCTCGCAGCACTCCCTACCTTGGAAAGGTGAATTTTAGTACACAATTGTCACTCAACTGTGCACACAGGGTAGCAGGTAGATGACATCCTGTTCATGTCACCTAGTACCCAATGCACAGGACACAGTTTCTTGATTGAAATCATGGGGGGAGGCAGTGGGTAagcaaggtatgatagtgtacaactttaatcctagcacttgggaggcaaaggtagggggaatctctgtgagtttgaggccagccctgttttacagagtgagttcaggacagaggtacacaaagaaactgtgtctcaaaaaaaAGGGGGGGGGAGGGAGTTCCCTCCCCCGATCCTGACCCTGGTCCATAGGGTCAGTGTAGACACCTGATTTGAGGAGCATGAGGCTAAGAATAGGTGAGAGCACAGAAACAGATGGCCATGCAGGGAATAAGTCTTGTATTCATTGGGTGTTTTGATGCGCTGGGTACACACAGGTGCACATGTGcacacacacacacaggtgcacatgtacacacacacacacacacacacacacacacacacGGCATCTGCTGCCAATTTGAACTATGAGTTTTTTCCCAGTCAAATTCACCCTCCCACCCGTAAGCCGATGGTTCATGCCTTTATCATCTCACTCCTGGATTACTGTCAAGCGGGGTTGGATGGGGTGGGGTAATGAGGTTTTCTTGCTTCAGTTCTGAAGTCTCTTCATACCCAGTCGAGCCTCTTACCCTCATAGACTCGTTTTCAGTCGTCACCACCCTGAGATCCACACACTCTGATCACCCACACACCTTCCTCTTCTCACCTCTTCATGGCCTCATTCTGCTGATTCCCCAAGACCTGGTCCAGGACTTGACTCCTCCGCAGCCCTCCTCGGAGGCTTAGCCTCCAGTGACTTTGCCATTGGTTTGCAAGTGATCCTCGTCCCTGTTAGGTTTTGTTTTttttattttgtctgagacagagtctcgcaactagcccagactagcctggaactggcaatcctcctgccttggcccttccaagtacggaattaaaggtatgtgccaccatgcccACCCAGCTTTCTGCCACCTCATTGGCTACAACATTAACAGCTTTGCAATGGGGCATTCGCTGCTAAGGGTCCAGGCTCTTGTACCAGGCAGCAGGAACCTGCAAGGCATCAAAGAATAAGTCCTTTCTGCTCCCACTTCAAAAGAACACAGATTGTTTAGGGTAAGTGGGATTGAGTCCCCCAAGGACAAAAGATACAATTTGGCAGTTTCCACAGCAGGTATGACATCCCTCTCTTTTTAGGGCTCACAGGGCTGGAGTATAACCTGAAGCAAGGTAAATTTTTGTTTGTTTGCTTCTTCACTTTGAGGAGGTGGAAAGTGTGTTGAACGTTTAGAACCCACAATAATGTGCTGCACTTTGTATCCCCAAGTAAAGTCAAGAACTGACTTAAGGCCTCAGTGTGTCCCAATTTGCTTGGGGCTCTTTTATTGCTCAGTATGTCCCCCCTCACACACCTGTTTCCTCCTTTAAAAGACAGCACTTTCTTGGCTCTTCTCTGTGGCTTAAGAGAAGAGAGAAGGCCGGTCCTTCAAACCCCATACAGCTCTCACGGCTGCTATGAAAGGAGCCCTCCCTGAGCCccccaccccaccccactccatcccccacagacaactccacccttctccTAGTGTCCTGACTGGTAGTTAGGATGTAGCCATCTCCTCCTGCATTGGAGCAGGGATAGCAGGACAGATCACACCTAGTCTGCGGGGTCCTGGGGAAAAGTCTGAGCCATAGGTGAAAGTTTGTGGCTCCAAATCCAGAATTCCTGAAGCTTCAGGTCACATGACAGCCACAGGCAAAGAGATTTGGGAATCAGAGGCTGGGTGAAAGGTGGCCAGAGGCCTGCACACTGCTCTTTAGAACTGGTCCTCCCTGGCTACCAATGCCTCTCCTGAGGTATCTTCTGGCTGACAGAGGCCAAGATTCAATGGGAATGGCCCCTCCCCCACCTGACATTCTAGAGTTGTATGACGCAGGCAAAGGTGATGACTCAGGCAGGAAGGAATAGAAGAGGCCAGCCTGGTGGCCCAGGACAGACAAATGATGCAAAGGACTCTTTCTCCTTATCGACCCTTCTACAGAAAGGAAAGAGTCAAAACGGTTCTAGTGCCAGAAGGCATTATTGAGGGGAAAGCACAGAAGAGATGATTAAGAGCATCAGACAgggtccatcccataatcagccaccaaacacagacactattacatatgccagcaagattttgctgaaagaaccctgatatagctgcctcttgtgaggctatgccagtgcctggcaaatacagaagtggatgctcacagtcagctattggatggaacacagggcccccaatggaggagctagagaaagtacccaaggaactgaaggggtctgcaaccctataggtggaacaacaatatgaactaaccagtacccccagagctcatgtctctagctgcatatgtagcagaagatggcctagtcggccatcattgggaagagaggccccttggtattgcaaactatatgccccagtacaggggaacgccagggccaagaagtgggaatgagtgggtaggggagcagggcggggggagggggggtatagggaacttttgggatagcatttgaaatgtaaatgaagaaaatatctaataaaaaaTAATTTAAAAAAGAGCGTCAGACAGGGGACTGAACAGCTCTTGACTAGGGGAGAAGAAGGCAATGTAGAGTAGTCTGTGAGTTCTAATCCTTGCTAAACACTGACTTCACCTGACCCCTACTACTTAAGGCCCCCCCCCTTACTTAAGAAGTCCCTGTGTTCTCTTACTTCAATCTACCCCCAACATCATGAGACCTGGTCAAAGAAGCTGTAGAAACCCAAAAGTTGAATCCATTTGCCCTTCTGGGTTTCTGTCTTTGCCTCCATGGACGATAGGGacacacacacacacacacacacacacacacacacacacacGCCCCAAATCTGGAGTGGTCCTGATGTGGTAGTGGTAGGTCTTTAGGGGTCTCATGGGACTGACATAGTATGGTTTAAGGTGCTGCTGAGCAGGAAAGAGAAGGCTAAGTGGATTTTCAAGACCCCTTCCCGTCCGTCCAAGACAACCCCTTTCTTGTTCCCTTCCTGCCCTGTCCACCAGCTGCCTTGGACCATGGAGGAGAGAGTAGGCAGGAGGCCCGGGTAGGAGTAATTGAAAGGAGCAGATGAGACGGGGGAATGCACCCACCCCCACCTTCCCTGCCCCACAGGGGCTGTGGAGAAATGAAAACTAATCAAATTACAGCCGACGGCCTCCCGACCCGTGCACAGGAGCCGCCTGGGCCAGGGGCAGGCCTGCAGGGTGGGGTGGGGGCAAAAGGAGAGGGAAGGGGAATCACATGTAATCCACTGGAAACGTCTTGATGTGCAGCAACAGCTTAGAGGGGGGCTCAGGTTTCTGTGGCGTTGGCTATATTTATCTCTGGGTTCATGCCAGCAGGGAGGGTTTAAATGGCACCCAGCAGTTGGTGTGAGGGGCTGCGGGAGCTTGGGGGCCAGTGGCAGGAACAAGCCTTTTCCGACCTGATGGAGCTGTATGAGACATCCCCCTATTTCTACCAGGAGCCCCACTTCTATGATGGGGAAAACTACCTTCCTGTCCACCTTCAGGGCTTCGAGCCCCCGGGCTATGAGCGGACTGAGCTCAGCTTAAGCCCGGAAGCCCGAGGGCCCCTGGAAGAAAAGGGACTGGGGACCCCTGAGCATTGTCCAGGCCAGTGCCTGCCGTGGGCATGTAAGGTGTGTAAGAGGAAGTCTGTGTCGGTGGACCGGAGGAGGGCAGCCACACTGAGGGAGAAGCGCAGGCTCAAGAAAGTGAATGAGGCCTTCGAGGCCCTGAAGAGGAGCACCCTGCTCAACCCCAACCAGCGGCTGCCTAAAGTGGAGATCCTGCGCAGCGCCATCCAGTACATTGAGCGCCTACAGGCCTTGCTCAGCTCCCTCAACCAGGAGGAGCGCGATCTCCGCTACAGAGGCGGGGGCGGGCCCCAGCCCATGGTAAGTGGCTAGTACACCAGATCCAGGGATAGGGCCAGAGGGAGGTGCCTGGTCAGCCCCGGGCCACCAGAGCTAGAACAGGTGCAAAGCAGGGCCCTTGGGATCCCTGGACCCCTTTCCTTGTCGGCTAGACTGTCCAGTGGCCTTCTGGGCTCATACTGTTTCCAAAATACAGATGGGGTAGGGTGGACTGGCACAGGAGAACAGAAGGGGCCCGGAAACAAGCCTGCAGTAAGGGCTTTGGTGAGCCTAGGTGAAAATGAGGGAAAAGTGGCCTAAGAAACCTGCTTTGTCCCAAGTCCACAGCCTTCATTTTTGACCTGACGAAACACATTAGAATGCCCACAGGCCTGCTCAGGAGCCACCGTAACAAAATACTGTGGTTTATCACCCTCACCGCCGAAATGAAAGCAAAGTTCTCATCCTAGAAGCTAGGAAAGACCTAGAAGTAGGATGTCTATGGTAACATTCTAGGGTAGGCAACTGACCCTGTAACCCAGGCAGAGAGAAATACCTGAGACTGGCAGTAGACTTGACCTTGGACCTTGGCCTTGTCTTGCATGCAGGTGCCCAGTGAATGCAACTCCCACAGCGCCTCCTGCAGTCCGGAGTGGGGCAATGCACTGGAGTTCGGTCCCAACCCAGGAGGTAAGTGAATCCTGACCCTGGTAACATGGCTCAAATCCCTTAGTCCCTACCTAGGCTGGGCTTGTACCCTTACCATAAGCCCTGTCCCAATCACCCTTCAGCAGCTTTTCTAGGAACTTGCTGACCTGAGGGCCCCAAATGGTGGGCTGGAGACCCTGTGCCTCCCGGTAGCCTTGACCAGCTAAAGAGTAGTCAGAGCCTCCAGCAACTTCCCTGCTGGTCTCTGACCTCAGAGAGAAGAGCCTGCTCCTGCCCCAGGGGTCCCTGGGGATCACTCAGTCAGTGTTGTAAAACTGTGCCCTGTGCCCTAGGATATCCTGGCTTCACCTAGGGATAGCCACTTTTAAAACCCCACAAGCACACACACAGCATGGGGAGTACTAGTGTCCTGGGGGCGGGGAACACTCCTGAGTCTTCCTTACCCATTTTGTCCTGGAAAATCTGTGTCAAGGGTCCCATACCAGTTGCCCAGGAAACATTCTCCCACTTTTTCTTGCAGATCATTTGCTCGCGGCTGACCCTACAGACGCCCACAATCTGCACTCCCTTACGTCCATCGTGGACAGCATCACGGTGGAGGATATGTCTGTTGCCTTCCCAGACGAAACCATGCCCAACTGAGATTGTCTGTCAGGCTGGGTGTGCATGTGAGCCCCCAAGTTGGTGTCAAAAGCCATCACTTCTGTAGCAGGGGGCTTTTAAGTGGGGCTGTCCTGATGTCCAGAAAACAGCCCTGGGCTGCCACAAGCCAGACTCCCCACTCCCCATTCACATAAGGCTAACACCCAGCCCAGCGAGGGAATTTAGCTGACTCCTTAAAGCAGAGAGCATCCTCTTCTGAGGAGAGAAAGATGGAGTCCAGAGAGCCCCCTTGTTAATGTCCCTCAGTGGGGCAAACTCAGGAGCTTCTTTTTTGTTTATCATAATATGCCTCGAATTCCACCCCCCACCCCCAAAATGAAACCGTTTGAGAGACATGAGTGCCCTGACCTGGACAAGTGTGCACATCTGTTCTAGTCTCTTCCTGAAGCCAGTGGCTGGGCTGGGCCTGCCCTGAGTTGAGAGAGAAGGGGGAGGAGCTATCCGGTTCCAAAGCCTCTGGGGGCCAAGCATTTGCAGTGGATCTTGGGAACCTTCCAGTGCTTTGTGTATTGTTTATTGTTTTGTGTGTTGTTTGTAAAGCTGCCGTCTGACCAAGGTCTCCTGTGCTGATGATACCGGGAACAGGCAGGGAAGGGGGTGGGGGCTCTTGGGGTGACTTCTTTTGTTAACTAAGCATTGTGTGGTTTTGCCAATTTTTTTTCTTTTGTAATTCTTTTGCTAACTTATTTGGATTTCCTTTTTTAAAAAATGAATAAAGACTGGTTGCTATCAGAGCATCTGCAATGATATTATCAAGAGGGGAGCCACCAAAACTCTGCACCTTTCCCTTGGAGGTCCAAATGGGAGTGGGGGGGTGTGGATCATGTGAGTGGAGCTGGAGTCCTGAGCTGGTTGTTAGACGCAGGAGCCAAGTGCCGCACAGCTTGGGGGAAAGACCGGATTCCTTAGAAACCCTGGGCCCACAGAGGCAGGCCTGTAAAATACTCTGTTTGTTGTACTTTCAGTCAGACGTCATTCACAGTTCCAATTCACAGCCCAATAGGTCCACTGCGCATGCTCACGTGCCTTGTGCCCAGCCCACACCTAGGGCTAGGGGTAAAGAGCTGGGTTTTCAGGACGTTTCTTCTTCAGCTCCATCTCTCCCCTGGATCCATTGGTCACCTTAAGCTCCACGGAGAAGTAGGAAGTGACTATACAGAACAAATGGGGTCAGACGCTGTCATTTCTTCAAAGGAAAAACAGCATATCCCCTGACCACCTTCTGCCCTTCCCTGCAGGCACAGGGATATTCCTGTCCCCAACTACAGCTCAAAGATGAGGAGATTCTGCTAAGGGAGCCAGAGACAAAGAATAATCAGAGGAGAAGCCAGGGTTCTCCTCATTTGAGATTTTTTTTTTTCCAAAGACTGGCTTCCTAAGGGGAGAAGGTGGGTGGGAAATTGAAAGCAAAGTGCACAGGTAGAGATTGTGTAAGGATTAACACGGGGTCTAAAAGAACTATAATCGGGAACAGGCCAAAAACACCTACTTCAAATTTGCTATTGGGTCGTACTGCTTGTCTGGTTTCCTGGAGATTATTTCCAAACCATTGCAGACAGGGATTCAGTATATGGTGCATCCTGGGTCCCCTTCAGTCCTCTCAGGTCCTTTGTCAACCAACCTGAACCAGTTTAAGAGAGCAGGCATTGATGGCCATTCTGCGCTTGCTCAAGCTCAGCTGGGCCCCTCCCCACAACTAACCTCCCTAAAGAAGATAGTATGAGAAAGGCTTGGTGGAGCCTCGGGAACTTGAGGAGGTAAGAAGCTACAGAGGGTAGGTCTCATCAAGGTCGTGATTATCGTGAATAAACGATCATGCATCCTGGTTTGTGGGATTTTTCTTCCTTATGAGTTTGTGTCATTGGATTTACAGTCTTTCAGATAGCCTGAAGAGGAATATTTAAGTCTAGCTTTGAGCTTCTGACAGTGGGGCAAAGTAAGTGTCTGCATTACCAATTCCTACCTCTGGTCTAGTGTTCTCCCTTAGGCCCACCAAAATACCCAACTGTGCAAAAAATAGAACTCTTCTCAGATTTGTGCCCTCTGCCCCAGTGCCTCCCAGTGTTCTTGAGTGGATTGTCCCCGACTGCCTTCAGTTGTGACATGTCTGTCCCTTGTCCTCCTAGGCCCCTCCAAGGGTCTAGTGCTAGCCAAGAACAAGGGTCCTCCGTGAATACCCTGCAGCTCATGGGCTCCAGTTGCTGGAAAATTGTGTTAAAGCCCATTCTTTTCACACTTGAAAAAGAGAACAAAGGTCACTGGAGTCAAGTGACCCTTGTGTAACCACAGCTTGAAAGTCCTCAAGCTATAATATGCCAGCACAGCTCAGATGTGGATGATAACCCTGCTTTCTAGGAGTCCAGAATATTTTCATATAATAAATGTTATTAAGCATAAAGGTTTCCTTAAATTAACAAACTCTCAGCCTTCACAATTGAATTACAGGTAACAGTCAGGTTAATGAATAACGAGATGGAGTTCTTTAGGGAAATTAAATTATGTCATCTGTGGAAGTAACTACAATAAATCAAACTGGGCTATTTTGCAATAGCAGCAGCAACAGGAAAGTtgtggtggtttgaatgtttggtccagggagtgtcagtgtttggaggtgtggccttgttggagtagctgtggccttgtccacttgttgtggacagtaagtgtgtcactgtgggggtagactttgagagcttcctcctagctgcctgaagatgccagtcttttcctagcagccttcagatgaagaggtagaactctcagttcctccagcaccatgcctgcctggacgctgccatgctcccaccttgatgataatggactaaacctctgaacctgtaagtcagtcccaattaaatgttgtccttataaaaggacactgtgtccactcacagcagtacaaacctaaccagacaCAAGTATCTGCTTTTATTAATATTCATCAACAAATTCTCCAGGATGAGATCAGTCAATCCGGGGTGATGTCACAGCCCAGCGCAGTAGACAGACAGTCAAGGAGACAGCACGTGTGTCTGTGCAACATGCATAGCATGTTCATGGAGCTGAAACATGTTGGCTAGTTCTACTGCAGCACCAGCTACCGCCTCCCTACCACCTCCCAGGAGAGACTTGGAAAGAAATTGAAGGGTCAAAGCCACAAAGGCAAGGAAAAGAGTCATTGAGTGGCCTTCTACAAAGGACATTGGTGAACACAACATTTCTGAGTTATGTAAACTGGTGGCAAGAGGGGACCTGGGATCCAAGCCATGaataattttttaaattaattatttGTGTGTGTATGTtttttttattattcactttacatcccgctccctcccagtaaccacctcccacaacactttacccacctccactctcctccccctccaagctcccctgtgtatccccccaaccacggtacttcaagtctctgggagCATGAATAGCTTCTTAAAGCTGCCCAGGGGAGGGGCTGGACCCTGAACTAAAGTAATGGAGACCTATGgtggtggtttaaataagaatggctcccagtggctcacatatctgaatgcttggtgtcttagggtttctattcctgcacaaacatcatgaccaagaagcaagttggggaagaaagggtttattcagcttacacttccatactgctgttcatcgccaaaggaagtcaggactggaactcaagcaggccaggaagcaggagctgatgcagaggccatggagggatgttctttactggcttgcctcccctggcttgttcagcctgctctcttatagaaccaagactaccagcccagagatggtcccatccacaaggggcctttcccccttgatcactaattaagaaaatgccccacagctggatctcatagaggcatctcccccaaccaagttcctttctctatgataaccccagcctgtgtcgagttgaaacacaaaatcagccagtacatttggtctccggtgggtggaactgtttgggaaggattaggaggtgtgatcttgttggaggaagtgtcagtggttgggctttcaggtttcaaaagctcacgccatcctagttagctctcgctgcctcttggttgttgtctcaacaagtaagtaaccctcagctagttctcctgcccgcttgcctgcctgtcctgctccccaccataatggtcatggactttaaccctctgaaactgtaagcaagtactcaagtaaatgattttttttttaaaataagtcgccttggccatggtatcttaactaagacagctactgaaatgctgagataTACAGAGGAAGCTGGGCGGCAGTGGCAGCAGGCTCAGCGTGAAAGGGTCCAAATAGAGTAAGCCTGGACAGATGAGAAAGAAAACCGACCAAGCCTAACAGCAGCTTTCTCACACCCTCACCCCAGACTATAAGCCCTTAGCACAAGCCACCCAAACACTAACTTTCCCATCATGCCTGTGAGTATGTAATAAACAGAAGGGTATTGCCTACATGTTTCAAACCCGATATTTCCTTCTCAGAACATAGCAGTGCCAAGGGTCATGAAGTAAAGTTGGACACAGCAAATGAACTTAGTGTgaaagaaagaaagaaagaaagaaagaaagaaagagagagagagagagagagagagagagagagagagagaggaaggaaggaaggaaggaaggaaggaaggaaggaaggaaggaaggaaggaaggaaggaaggaaggaaggaagAAGCAGGGTTGGGGGCTGAGTCagaacactgactgctcttccagaggtcctgagttcaaaccccagcaaccacatggtggcccacaaccatccgtaatgagatcggatgccatcttctggagtgtctgaagacaatgacaatgtactaataacatacataaaataaatgaaatcttttttaaaaaaTTTAAgaaggaaggaaggaaggaaggaaggaaggaagaaaCTGACACCATTTGTACATTGTCTTAAAACCAGGATGTTTATTGGTACGTACAcacccgctcacgcccacacacactcacacactcactcacacactcactcCTGAAAGCACTGAGCCAATACAGTACTGAGAAGGGACCTGGTTTGACACAGGAGGCTGGCAGGGAGAGCTTGGGTCACTGGTGGACTCTCCAGAGAAAACAGATATTGACAGTGAGGCAGGGCCACACCATGACAGCAGCCTTTCCTCACTGCACGTAGAGCCCCCTATTTTGTCCTCCCTACTGACCCTGAATGCACCTGGCTCCCCAAGTGCTACCTAGGACACTGCAAACTATGACAGGGTCACATGGGAGAGGAGGGGCAGGGCTGACTCTCCCACAAAGCTAGCCCCAGAGTCCCTAGAAGGAGTCAGATTGTAGGGCTCCTTCCATCTTAGGACTGGCCCTTCTCTATAACTCCACTATTCAGGACCAAGGGTTCTCTCGCTCTAACTAGTTCATGTTCTACTCAGCTGCTTCTCTCTCCATTCCCAGAGGCCTGTCTGGTAGGGAGACAGAAACAGCGGGCTTGAGGACGGGTAGTTGCCTGCCCCAGCCCATGTTAGCTCATTCGATCAGCCCATTAGCCAAACTTCCCTCTGCTGAGCACAAGGCTCGGCATCCTTTTCAGACAGGGAGTTCTGGCTCATTTCTCCACCTGTTAGCTTGGCGCCTGTTCAGAATCCCAGTGATGAAATGGCAAAGCAGCTACTCCAGTCACCTCCAGGATGGCACTGTACTGCCGGTCACAAGCACAGCCCAGGCACTTTCCCGTCCTCTTCCATTTCGGGTTCTATCACCCACCCTGATACTAGGCCCTGAGCTTTCCCAAGGTTAAGGAATTGGTCCAGAAGAGAGGGGCAATTGATATTTCTCATAAATCTGCCCTGTCCCCACCGTGCTGCCAGAAAAAGCAATTAAAATAATGGAGACAAGAGAGGGGATCAAGATTTTCTTGAGCAGTTAGCCCCTTACCCCCAAAAGAACCCTAAAGGAGGGCTGGAGGGTATAGGGACACACAAGGGAGCCTGCCTCAGTCCACTTTAGATTTCTTAGACCTGGGACATGAGTCACTAAAGGGGAAGCCTCCCCATTCCCGCACCCCCACTTCAGGGCAGAGTTAACCGTTCACAATCTGATCCAGTAGCAGCACCATTTGGGGCTGGGGCTGGAGGCATCCCCACTGCCCTCTGGGGGGAAGCACAAAAGGCCATCAGGCCATCTCTCTAGGCAAGGGGCTGAAGAGTTCCCCTTGCCCTCACCCTGGGCCCAAAGCTCTGGGGTCCATTCCTCCCACACATTTGGGGTTCTGTGTCAGCTTGGGCACAGAGTTTCTACCTTAGTCTTCCTCAGCTCCACTCCTGGCTTTGTCCTGGAAGAGGGTTCGGGGTATTCTACACCCCTCGTCACCCCACAAGCAAGACTTGCAGGCAAGAGCTACAGACACTGGAGATTGGGGTTTGGGGAGGAGGGAGTGATACTGAGAGAGGAGGTGGCAAAACCACTCAGACCATCGGGTACGGCCAGAGTGGAGGGGTCCAGAAGGCCAATTAGTCCAAGCAGGACAGAGTCCGAAATGGCCTTTTATTGGAAGGGTCATCTCAGTCTTTGGTCCGGGATCCTGGGCCTGATGAGCCCATAGTCCAGACCAAAACAGATCCGGAAGAGGGAAGGTGGCCACAGGTGCTGTCCTTCCCTCCCTCCTACAGAATCTCAAACACCTACAACCTGGGTGCCCGACAGACACTCACGGGAGACCTTGGTCACATCCTCCAGAGACTTACAAAGGGGGAACGAAGTAGGACTCGGATAGTGGGATGATGAAGGAGTGGATGAGCATATTCTGAGATCCCGGGCAACTGGAAAATCACAGAGGAGAGACTGGGAGCCAAGGGAGAAAGGGAACGAGCAGGAAGGGTCAGGGCCGGCTGAGCCTGTGAAACCAGGACACCCGCCCTGGGGGCCGTGGCTAGTCCCGGAAGGCGGAGAGCATGTGTCCGTAGAGATAGTGGGAGTGAGCTATGAGAGAAGAGAGAGACAGGCTCTGTGAGTGGAGGTGGTTCCCGGGGTGGGCAGCAGGTAGGTGCGGCATGCAGCCAAGCACGAAGCGAAGCGGGAAGGGCAAGCCGGGCGATGCTGCAGCGAGGGAGCGGCGGCAGGGCGGTCCGGAGCGGCGGCAGGACGGGGCGAGCACAGCCACAGCCTGGCCCACTTACCCCGAGCCGGGGGCGCACCCCCGTCAGACCCGGGGCGGGAGGGTGGGGGGGGTCAGCAGGAGTAGGTCCGGACCGTAGAGGGCTCCAGTCTCTGCGCCCCCGCCGTCCCGGCTGGCAGGAGTCGGCAGCGGCGGGAGAACACACAGAGCGCGGGTTAGTGCGCGCCCCACCGCAGCGTTAGTGCAGCTCAGCCTCGGCCTCGCCCCTCTCCAGCCCGCTCGGCTCCAGGGTGCGGGGAGGAACCCATTACCAGCATGGCACTCACCTTCCGGCATGATCTTCTTAGGCGGGGCAGGTGGAGGCTGCAGCGGACCCAGCGTGGACACACGGAAGCCCGCCGGGAGGGTCTCCGCTGAGGTGCCCAACATGCCACCGCTATGGTGATCCCGAGGCCGGAAGCGTTTCCTCCAGGAGGGTGCTCGGCGGAACACCTTCTCTTCTCCCTGCACCAAGGGGCATATTGGAGTTGCCAGCCCAGTCCCTAAAGCTCTAAGGGGTACTACTTCTGAACTCCCCCTCTCTAGACCTTAGTGGTTTTGCGTGTAGGATAGATGGAGGCTGAAGATGATTTCAAGGGATCTCAAAGATCCAGCAGGAGGTTCCTCTCTCCTATCAGGTCTGGGCCAGCAGTGAACTCCATTGCTCTACCCACCCCAACCTCCCCAAACTGAGCTCAGACAGCCCACTGCTTTCCTAACATGTTTTTCTTTCCAGACTCTCTCCGGAAAGTCATGGGTCAGCCCCAGCACTGCTCTCCTGTCCTGCTGGGTCCTCAATATAAAATACTACCCAGGTTGCTAGaaaagcagtacctgggatgaagacttctgggatgcccttcttggttcctgccacattactagcaacatgacagctccgggcttcagttttcttatcttcaaagtgtaaattccaacatctgtctaacctatttATTTCTCACGCTGCCTATCCCAGTGAGACCAGAACATACGGACAATGATAAGTCAGGTGGCCAGAGACAGGCTTCTCCAGAGGATACAGAGAGCAACCCTCACTATCTGCTCCCCATCAATGCCAACCTCCAAAATCACCTCTGCAGTGGGCTCCCAGAGCCTGAATCCCACAGGCTGCCCAACACTCCCCAGAGCCGCAGCTCACTGTCTTCCAGCCTGTGTTTTCAGAACTGCACAGGCCCCACGACACAGGTAGAGTGAGCAGGAACACGGCCACTGACCCCTGTTCTTGTCTCAATGACTCCTATCTCAGTCCCTCAGACTTCTCCACAGCAGACCACTTCTACCCAACCACAGACCTCCTCCTCCTCACAGCTTCCATTCTCTGGCTCTTCTGGCTCTCCTCCATTAGGCCAGCCACCACTCAGCCCTGGGGCAGGAGCTCTCATGACCCTCTAATCAAACAGCCAACAACAGCCAAGGCTCTGAATTCATATCCAGGTACTCACGTCATCCAATTTCCTGTCTGTGCCCAAGGCCAACAGGTTATTGAACTCTCTCTCCATCACTTGGCGGGCCTGAAACCCATAGGGTGAGAGGGAGAGAGAGGAGCTCTAGTTAACGATGCTATCTTACTCTTTTAAAATTTACATTAATTCAGTTTTTATATTATCACACATTATTCAGtgtgtatgtgtctttgcaagcatatctgcaactatgcacttcctaggttggagaacaatcacaaaagttgcttctctctttatgtaggtctcagggatgaaacttaagtcatcaggcttggtggcaagtgctttaacttgttaagccagcttaccagcctcATCTTTTTCTTTTCTTTTCTATTTTACATGGGGTTTGGGGGAGgtacgtacaccacagtaaatgcatgggatcagagaataacacacaagaattggtgctctcctaccatgtggattctggggactgaactcacattgtgattgtggcaagcaccttaatcactgagccacctcagcatcctcCTCATGGCATCTTTCAGCTGTTTCCCAGTGTCTAAGGGCAGAGACAGGGCAGGGGTCTAGTGTACTTAACCACTGGAAAGCTCACACATCTTCCCAAGGCTCCTGCTTCCAGCAAATCACTAAGAGTGCCCTACTAAAAGCCAAACTGCTAACCTTGGCATTCCTTCATAGAGGGCAAATTGGAGGGAAATATATTTTTAAAAATTGATCATGGAGCACACGAAGAGACAGGCTTTAGGTATTGGGAGGGGGGAACTATTTTCACTAACTGGACTCGGGGAGTTATCAATAACAAGAAAGAAAGAGGACTGGAACATGGGAGGGAGGCACTTGTGGAAACTGGAAAGAGGCTAAAGTAGACAAAAATGTTCAAAATAAATTATACAAATATATGCAAATATATGAGCAGataaaaattattattttaaaaGCCTACATTTTGTCTCTAAAGGAGAAGTCATGGCTTGCTACCCTTTGGTGGGGGCAGAAGCAAGAGAGGCAAGCATGCACAGCACAGGAAACAAGCCTTCCTAGGAGGAAGGAAACCAACCTATCTCTGTCAGGTGGGTCAATTACAAACTTGAACTAAAAGAAGCCCAGTGGAGGATAGCGGGAGCCCTGAGCTGAGAGGCATGCACACATTTTTCTAGACTCCTTAAAATTACTGATTAGGGAAACTTCCAGAGTgggtagagaggtggctcagcggttaagggtacttgctgctctcgcagagggcctgggttcagttcctatcacctaaagcagtcggctgacaacggcctataactctagttccagggaaccagaagccttctcctggcctctgcaacaccagcatacatatgatacacctacatacatacatgcaggcacccacacatacacacacataTGCATATACACACATAAAATACAAAAGAAAGCAAGAAAAAAATAGAGGTCTTCAAAACTTTCTGTCACCAGATATTCTCAAGGTTGTTCATGGAGGCTTCCATACTGGGTCagctgggtgatggaggcgcacacctctaatcccaggaccccaggaggcagaggcaggtggatctctgagtttgaggccaacctggtctacagagtgagttccaggacggccagagctacatagagaaaccctgtctcaaaaaacaaagaagaagaagaaaaagaggaggaagaggaggagagatgaggaaggaaagaaaagaaagaagaaATATGCATTCTGATTTAGGAAGCAAAGAAAGAGAAAGTCCACTCCTGGGGGAAAATATCAACCACAGAGTTCTACAGGAATAGTGTTTGTCAGAAATGGCAATGTTATGTCTTACAAATGATCTAAAAAAAATATTTCAAATAtcttctgaatagtgagggttaaatagttagatctcaactgcagaagcccttctgagggcgctggcgggcaggaaacctgcaaatggagttagaggtaggcaagtatagggaaattgcatttggaaaaaatccaaacttttactggaaaagaaaggttccaagctatgcgttctgactggtcaataggggtcacagcaaacagtctgcaaacacattggccctgtgggctgccactgtccccgaaggccaacacaccatccagaaccaagagacaacacagccccaccctccctcaagccaaaaagtgtctgctcccagaatagccagcacagctagtggctgggtttcaaaagcgatctgacagctgcaaacagttcagacaagggcagctaaaatgatcaggggcagcagcgagactgcactagggaaggctaaaggaattaagaccggtctgtctggagagacaaaggcttgggcccagagcaatataatcagagtttatgaaaTTCACAGTTCTTACAAAAGGAGAAGCTGGTCAAATACAGAAAACCTCATCAACCGGAACTGTAGGGAAGAGGCGGGCCTTTCCCCAGGGGGAGCCTGCCAGAGGCATATTTAGGACAACTAAAATCAGGAAGTACTTAACACAACTGTGAGTACAGCTAGGATCCATTACCCACAGGAAGTCAGAGGGGCCAAAAATATAAATAGGGTCAAGAGAATTTAGATCTATCCTTGGGTAGCAGTTACAACAATAATTATGAAATGTAATTGAAGGAGACGTCTAATCTTTTGAGCTGCTGACAGGGAGACAAAGGCCTGCTGCGGAGAGTCTCTGGGCTGTGCTTACTGGTAATATTTAGTCTGCTGAAGCCTAGGGGCCCAGAAGCAGATCCCCAGGCTAGCAAACAAAAGAGATACAGGCTCTCAGGTCCCTGTGAGGCCTGAGGCTGTTTTTTCCCTGTGGAACGTTGGGCCGGAGAAGCAATTTAAGGAAAAGGAAAGTCACAAGCTTTGGCTATAAAATTGGCTTGGGAAGAGCTGAAGCAAACCCAGAGCTGGGTAAAGAAAAATATCTTACAAGGACCACTAAGGACACAGCTCGCCCTGGAGacacacacacacacacacacacacacacacacGGGAGGGATGGGGAAGGTGGTGACTGACTGAAGGGCTacacacacacacacacacacacacacacacacacacGAGGGGTGGGGAAGGTGGTGACTGACTGAGGGCTACCTGGGTGCTCTGTGTGGGGATCTGCAGAACCAAGGCCAGTGTGTTGTGGTCGAAGTTTTCATCCAGGGCCAGCAGGGCGCCATGCACACCACTCTCGTGTAGGTTTCCTGCATAGTCCCTTAGCCCTATAGACTGGACCCAGTGAACCACCTGGTCATTGGTCCAGACCAGCACATCTGGAGGACAGAGGAAGAAACAGACAAAAAGGAAGCATGCTGGCCCAGGCTCTTCACGGTGTAGAAATAAAATTTCCTAGACGCAGAGCCTCAGCCCATCCCTCACTTCCCACATCTTTCTGTCCTCCATGGCATCTGGGCTCCTTGAGCCAGCTCCACCTCACTGCATCTCCCAGAAGTCCCCGCATGGGccatccccaccccacctccacccccactcccCAACCCAAGGCCAAAGTGGCCTTGTTTTTTCAATTTTCAGAGTCTTACGTAAAACCTGCCTCTCTCTCACTCAATTCTCCCTCTCCCCCCAGATCATCAATTTCTACGAGCACACCAGTCCACAGCACCATCAGAGGGGTCGCATCTGTCTGCTTGGTGGCCCGTCTGAGGGAAGGGGAGCCACATGTGAGCACACATGGAATATATCTACTTTGTCACACAGGCTAACGTGAGTCTTCCCTGAGGCTCGCTGGAGCCCAGGCTGAGGGTGACGGCAACCTTACCCTTGATCTCATGCTGGCTCTCTTCCCGCCTCTTTTCCAGTTCCTTCCGGTCATAATTCAGCCTCTTCAGACACATGATGCCATACTGAAGACTGGTTCTGCAGACACACAGCACCTGAGCCAGGGCTTCAGTGTGGCTGCACTCCTGCCCATGGGGCCCCAATTCTGTACCAGCCATAGTGGGTACAGTGCACGCAGGCCCACTGCATGCACCACAGAGGATACTCCAGTCCCCCGCTTCCCCCGCCCTACCCCCGTGCTCCTGCTGCCATGGCTTGTACCTGATCTGAGGTCTGCTTGCATGCCCCACTTCAGCCAGGAAGGGCCtgtgcaggctaattttgacagtcaccttggtaactaacctaggttagtcaaaggcacctctgcattgtcttcaagggcatttccaggggtggttaagggaggtggcgagacccatcctgagtatggacggctccatcccacggagaccagatggaatgaaaggggagggcacagcctaagggcccagacattctctctgctttcCCCTTCACAACGAAGGGCTCAAAGAAGAAGCGAAAATCAATGCTTCCTCCTAAGCTGTGGCCTGACTGGTGGGAGGGCTTTGGATGACACGGACATGTCCCTTCTTCACAGGCGCTGAAGTAATAAAAATCATTGCCACTCACAAGTCAAAGGAAAGAGAAATCCAAGACACTCCGTATTACCGTTTTCCTCAGCCTTTTCTATAGCCTGTACATTGCCAACGGACTTGTtccctttcccgcccaacttgttctctctgctgacatcacgctgtccctcaaacacggaaagcttctgagacctgggtgtcccagatctttgcactggttgctacgtctgcccagaacatcccacccccaattttccaaatggtgcaagcctgtaatccaaggctctttcttcacctttaagtctttgctcaGTCAGCAGGCTCCCACTACAGCACCACCTCCGCGCCACAGTAACTCCCACAGTAACTTGGTCTCATTTTCTCCTAGTTCCTTAACTGTCTTGTCTCACCAAGTCAGAATGTCCCCTTCCTGGGGACGGGACTGTTTAACTCACAGTCACAGATCTCTAGAGTGTCCTAGGTGCTCTGTAAGTGCTTAATGAGAAAATGAGGCAATTCTCCTAACTTATTAACTATACTAAGAGAGCAGCAGGCCGTGATAAGCAGAGAATGAACAGAGGACCTTGGGTTAGAAGGAGAACCATGGCCCTTAGTCCAAGCCTCTCCAAATCTAGGACTCACCCTACAGCACTTCCACAGTGCTGGCTGAGCAACAGTGTAACCCCTCCATGGCTGGGCAGGGGGACAAATTTACAGGGGGACAAATGTAAGGGTTCTGCCTTGAAAGGACCTCTTTCACCTTCTGGACTTGTCCCTCACACTGAGAAACGAAACAGAAGTCTTCTCCTAACTCCAACCCCTTTGAGATTAAATTATACAGGCTACTCGCAAAGCTCTTCTGCCTGGAACACTCACAGCTCAGAGATACATTTCTCGGCTGCCTGTATTGATGGCTCAAGCGGCTGTCTTAAGCTCTGGATGTCAAAGGCACATACAGCCCCTGCTGGGAAATGCCCCATACATTAGTCTCACTGTAATCTTTTACACAGTTCCTATGACTTTCACAGCTATTGTACAACATAGCAAAGCTATAAAGCCCTTGAAGTTAGGTCAAGATGGGTTTGAAAGCCAGCCCCGGCACAGCCTACCAGAGGGCAGCCGGcatctgtaagatggaaccccgcctctctttaagggttgtactggggattaaaattgacaatgaatggaagggcccaggacaTCTCAGGGACTCAAAAGGAGGACCACTGTTAGGAGGGTAGGTGTGACTGATGTGGGACAAGGATCTATAACAGTAGAACCCCACTCAATGGAGTATCCCGAGCCAAGAAGCACTGGGTGAGACGTGAAAAGATGAAAAAGATTAGCCGTCCAGCTGAGTGAGCAGACAGAAACAACCTGTCCTGGATTTGCTACCTCCGTTAGTAAATGCCCCTTCCTCGTCATAAAAATAATGGCTCCAAAACTGCCTtggtgcaagcctgtaatccaagctattccgtaggctaatgcaagaggactctcaagttcaagtgtgattacagaatcagttcaagaccagacaacttagtgagaccctgtcttaaaatacaaaacTGGCGGGGAGAccaggcgcagaggcacatgcctagaagtggaggcaggaggatcatggttattattactatatagaaagtttacagccatcctaggctatatgagaccttgtttcaaaaaaGGGAGGGGTACCTGGGATTATAACTCAGTGTTGGCATGtgtgatggtttgtatattcttgggccagggagtggcaccatttggaggtgtgacctggttggagtaggtgtgtcactgtgggtgtgggcttaatatcttcaccctagttgcctggaagtcagtcttccagtagcagcctttggatgaagatgtagaactctcagctctgcctgcaccatgcctgcctggatgctgccatgctcccaccttgatgataatggactgaacctctgaacctttaagccagccccaattaaatgttgtttttataagacttgccttagtcaaggtgtctgtttacagcagtaaaaccctaaccaaaacaGCATGCCTGATGTCTGTGTAAAGACTCTACACTAAATCCCAACTGTTGCAACAAAGGGAGGAAaaaaatctaagccagtggtagcacatgctttaggtccagcactaagaagcagaggcaggagggtctctgagtttaaggcctggtctacaaagtgaggtccagaatagccagaggctacacagagaatccccatttcaaaaagaAAGGACAAACTCCAGACCCACAAGTATCCTTCTGAGGTTCCgcatgagggctcacacctgtgatcccagtacctggaggatgagatgggaagagagctgtgagtttgaggccagcctgggctatagagtgagagtccttgtcGCCAGGCTCCAACAGGAAACAAAGACCGTGGTACTGGAATGGCAGGTGGAATGGAAGCAGAGTGACTGGCAAGGGCAGGCTGTGTGGTGATACCTCAGAAGCCTGAAGCAGCAGAGCTGCTCTATGGCCCTGTGGCAGGCTCGGGGCTGTGGGAGGGCTCCCACCATGCCTGGGAGGGCGTTCTCCGGCAATTCAGGCACGTGGCAGACTGGCAGAGGAGTAGCATATCTCTCAGCTGTCAATCACCCAGGAGAAGACAGGTGCAGCTGGGGCTGGCAGCTGCCCAGGCAAAGACAAAGACTCTCTTTTAGCCTCAGTGAGGGGCGAAGGGCAGAGGAGACATAGCTTCGCTTCCCTGCAGCCCTCACAAGTCCCTGTGGGGTCACAAAGGCTAGGGGCCCGGGACTGAACTTGAGTCTGCAGAATTAGTTCCGCCTGTGCTCGGCCATCATCCCTAAGCTGCTGCTTGCCGTGCCTCTTTCTCCTCGGTCACGAAGGGGTTAA\n",
      "\n"
     ]
    }
   ],
   "source": [
    "with open('fasta_files/myotube.fasta') as input_file:\n",
    "    content = input_file.readlines()\n",
    "for i in range(4):\n",
    "    print(content[i])"
   ]
  },
  {
   "cell_type": "markdown",
   "id": "90f4259a",
   "metadata": {},
   "source": [
    "Let's convert all the sequence to the upper case and create a dictionary with sequences as a key and label as a value"
   ]
  },
  {
   "cell_type": "code",
   "execution_count": 24,
   "id": "de485720",
   "metadata": {},
   "outputs": [
    {
     "name": "stdout",
     "output_type": "stream",
     "text": [
      "myotube  done\n",
      "proB-cell  done\n",
      "mESC_constituent  done\n",
      "H2171  done\n",
      "u87  done\n",
      "MM1.S  done\n",
      "mESC  done\n",
      "macrophage  done\n",
      "Th-cell  done\n"
     ]
    }
   ],
   "source": [
    "sequential_data = {}\n",
    "for name in table_names:\n",
    "    filename = 'fasta_files/'+name+'.fasta'\n",
    "    cell_type_data = {}\n",
    "    with open(filename) as input_file:\n",
    "        content = input_file.readlines()\n",
    "    for i in range(len(content)):\n",
    "        if i%2 == 0:\n",
    "            label = subset[subset['cell type']==name].iloc[int(i/2)]['label']\n",
    "            if label == 'YES':\n",
    "                cell_type_data[content[i+1][:-1].upper()] = 1\n",
    "            else:\n",
    "                cell_type_data[content[i+1][:-1].upper()] = 0\n",
    "    sequential_data[name] = cell_type_data\n",
    "    print(name, ' done')"
   ]
  },
  {
   "cell_type": "markdown",
   "id": "a84fa7e3",
   "metadata": {},
   "source": [
    "Tokenization"
   ]
  },
  {
   "cell_type": "code",
   "execution_count": 29,
   "id": "1465d5b7",
   "metadata": {},
   "outputs": [
    {
     "name": "stdout",
     "output_type": "stream",
     "text": [
      "myotube  done\n",
      "proB-cell  done\n",
      "mESC_constituent  done\n",
      "H2171  done\n",
      "u87  done\n",
      "MM1.S  done\n",
      "mESC  done\n",
      "macrophage  done\n",
      "Th-cell  done\n"
     ]
    }
   ],
   "source": [
    "tokenized_data = {}\n",
    "for name in table_names:\n",
    "    seq = sequential_data[name]\n",
    "    cell_type_data = {}\n",
    "    cell_type_data['sequence'] = 'label'\n",
    "    for i in seq:\n",
    "        label = seq[i]\n",
    "        new_i = []\n",
    "        while(len(i)) >= 6:\n",
    "            new_i.append(i[0:6])\n",
    "            i = i[1:]\n",
    "        new_i = ' '.join(new_i)\n",
    "        cell_type_data[new_i] = label\n",
    "    tokenized_data[name] = cell_type_data\n",
    "    print(name, ' done')"
   ]
  },
  {
   "cell_type": "markdown",
   "id": "7ba2c024",
   "metadata": {},
   "source": [
    "Making tsv files"
   ]
  },
  {
   "cell_type": "code",
   "execution_count": 9,
   "id": "1b55b154",
   "metadata": {},
   "outputs": [],
   "source": [
    "import csv"
   ]
  },
  {
   "cell_type": "code",
   "execution_count": 32,
   "id": "28fd2ded",
   "metadata": {},
   "outputs": [],
   "source": [
    "for name in table_names:\n",
    "    filename = 'converted_data/'+name+'.tsv'\n",
    "    my_dict = tokenized_data[name]\n",
    "    with open(filename, 'w') as f:\n",
    "        w = csv.writer(f, delimiter='\\t', lineterminator='\\n')\n",
    "        w.writerows(my_dict.items())"
   ]
  },
  {
   "cell_type": "markdown",
   "id": "746c3a95",
   "metadata": {},
   "source": [
    "# imPROSE data analysis and convertation (mESC dataset)"
   ]
  },
  {
   "cell_type": "code",
   "execution_count": 10,
   "id": "12ff9d57",
   "metadata": {},
   "outputs": [],
   "source": [
    "improse_data = pd.read_csv('improse_data/improse_data.csv')"
   ]
  },
  {
   "cell_type": "code",
   "execution_count": 11,
   "id": "18e3edaf",
   "metadata": {},
   "outputs": [
    {
     "data": {
      "text/html": [
       "<div>\n",
       "<style scoped>\n",
       "    .dataframe tbody tr th:only-of-type {\n",
       "        vertical-align: middle;\n",
       "    }\n",
       "\n",
       "    .dataframe tbody tr th {\n",
       "        vertical-align: top;\n",
       "    }\n",
       "\n",
       "    .dataframe thead th {\n",
       "        text-align: right;\n",
       "    }\n",
       "</style>\n",
       "<table border=\"1\" class=\"dataframe\">\n",
       "  <thead>\n",
       "    <tr style=\"text-align: right;\">\n",
       "      <th></th>\n",
       "      <th>chrom</th>\n",
       "      <th>start</th>\n",
       "      <th>end</th>\n",
       "      <th>Class</th>\n",
       "      <th>H3K27ac</th>\n",
       "      <th>H3K4me1</th>\n",
       "      <th>H3K4me3</th>\n",
       "      <th>H3K9me3</th>\n",
       "      <th>Brd4</th>\n",
       "      <th>Cdk8</th>\n",
       "      <th>...</th>\n",
       "      <th>Klf4</th>\n",
       "      <th>Prdm14</th>\n",
       "      <th>Tcfcp2I1</th>\n",
       "      <th>Nr5a2</th>\n",
       "      <th>AT_content</th>\n",
       "      <th>GC_content</th>\n",
       "      <th>phastCons</th>\n",
       "      <th>phastConsP</th>\n",
       "      <th>repeat_fraction</th>\n",
       "      <th>length</th>\n",
       "    </tr>\n",
       "  </thead>\n",
       "  <tbody>\n",
       "    <tr>\n",
       "      <th>0</th>\n",
       "      <td>chr1</td>\n",
       "      <td>13049615</td>\n",
       "      <td>13050323</td>\n",
       "      <td>SE</td>\n",
       "      <td>0.2018</td>\n",
       "      <td>1.4146</td>\n",
       "      <td>0.0749</td>\n",
       "      <td>0.1198</td>\n",
       "      <td>0.7075</td>\n",
       "      <td>0.6613</td>\n",
       "      <td>...</td>\n",
       "      <td>0.4839</td>\n",
       "      <td>1.5489</td>\n",
       "      <td>0.8829</td>\n",
       "      <td>0.1934</td>\n",
       "      <td>0.552260</td>\n",
       "      <td>0.447740</td>\n",
       "      <td>0.057415</td>\n",
       "      <td>0.057418</td>\n",
       "      <td>0.810734</td>\n",
       "      <td>708</td>\n",
       "    </tr>\n",
       "    <tr>\n",
       "      <th>1</th>\n",
       "      <td>chr1</td>\n",
       "      <td>13061206</td>\n",
       "      <td>13061924</td>\n",
       "      <td>SE</td>\n",
       "      <td>0.1342</td>\n",
       "      <td>0.4785</td>\n",
       "      <td>0.5477</td>\n",
       "      <td>0.2809</td>\n",
       "      <td>0.4630</td>\n",
       "      <td>1.6258</td>\n",
       "      <td>...</td>\n",
       "      <td>0.0315</td>\n",
       "      <td>0.1724</td>\n",
       "      <td>0.1641</td>\n",
       "      <td>0.0000</td>\n",
       "      <td>0.572423</td>\n",
       "      <td>0.427577</td>\n",
       "      <td>0.128439</td>\n",
       "      <td>0.128439</td>\n",
       "      <td>0.738162</td>\n",
       "      <td>718</td>\n",
       "    </tr>\n",
       "    <tr>\n",
       "      <th>2</th>\n",
       "      <td>chr1</td>\n",
       "      <td>13063645</td>\n",
       "      <td>13065360</td>\n",
       "      <td>SE</td>\n",
       "      <td>0.6214</td>\n",
       "      <td>0.7748</td>\n",
       "      <td>0.1633</td>\n",
       "      <td>0.0000</td>\n",
       "      <td>1.5622</td>\n",
       "      <td>2.5607</td>\n",
       "      <td>...</td>\n",
       "      <td>0.1867</td>\n",
       "      <td>5.2407</td>\n",
       "      <td>0.0000</td>\n",
       "      <td>0.2011</td>\n",
       "      <td>0.592420</td>\n",
       "      <td>0.407580</td>\n",
       "      <td>0.220057</td>\n",
       "      <td>0.230713</td>\n",
       "      <td>0.092711</td>\n",
       "      <td>1715</td>\n",
       "    </tr>\n",
       "    <tr>\n",
       "      <th>3</th>\n",
       "      <td>chr1</td>\n",
       "      <td>13071010</td>\n",
       "      <td>13071067</td>\n",
       "      <td>SE</td>\n",
       "      <td>0.9484</td>\n",
       "      <td>1.8778</td>\n",
       "      <td>0.0000</td>\n",
       "      <td>0.0000</td>\n",
       "      <td>0.8669</td>\n",
       "      <td>1.8424</td>\n",
       "      <td>...</td>\n",
       "      <td>0.0000</td>\n",
       "      <td>1.0517</td>\n",
       "      <td>0.2885</td>\n",
       "      <td>0.4231</td>\n",
       "      <td>0.649123</td>\n",
       "      <td>0.350877</td>\n",
       "      <td>0.050386</td>\n",
       "      <td>0.050386</td>\n",
       "      <td>0.000000</td>\n",
       "      <td>57</td>\n",
       "    </tr>\n",
       "    <tr>\n",
       "      <th>4</th>\n",
       "      <td>chr1</td>\n",
       "      <td>13074460</td>\n",
       "      <td>13075741</td>\n",
       "      <td>SE</td>\n",
       "      <td>1.1076</td>\n",
       "      <td>0.7386</td>\n",
       "      <td>0.0000</td>\n",
       "      <td>0.0000</td>\n",
       "      <td>3.2876</td>\n",
       "      <td>3.8653</td>\n",
       "      <td>...</td>\n",
       "      <td>2.3268</td>\n",
       "      <td>63.2990</td>\n",
       "      <td>34.6054</td>\n",
       "      <td>0.1112</td>\n",
       "      <td>0.548009</td>\n",
       "      <td>0.451991</td>\n",
       "      <td>0.054896</td>\n",
       "      <td>0.054997</td>\n",
       "      <td>0.231850</td>\n",
       "      <td>1281</td>\n",
       "    </tr>\n",
       "    <tr>\n",
       "      <th>...</th>\n",
       "      <td>...</td>\n",
       "      <td>...</td>\n",
       "      <td>...</td>\n",
       "      <td>...</td>\n",
       "      <td>...</td>\n",
       "      <td>...</td>\n",
       "      <td>...</td>\n",
       "      <td>...</td>\n",
       "      <td>...</td>\n",
       "      <td>...</td>\n",
       "      <td>...</td>\n",
       "      <td>...</td>\n",
       "      <td>...</td>\n",
       "      <td>...</td>\n",
       "      <td>...</td>\n",
       "      <td>...</td>\n",
       "      <td>...</td>\n",
       "      <td>...</td>\n",
       "      <td>...</td>\n",
       "      <td>...</td>\n",
       "      <td>...</td>\n",
       "    </tr>\n",
       "    <tr>\n",
       "      <th>10015</th>\n",
       "      <td>chr18</td>\n",
       "      <td>76832964</td>\n",
       "      <td>76833528</td>\n",
       "      <td>TE</td>\n",
       "      <td>0.3865</td>\n",
       "      <td>0.2178</td>\n",
       "      <td>0.0000</td>\n",
       "      <td>0.0000</td>\n",
       "      <td>0.4477</td>\n",
       "      <td>0.6599</td>\n",
       "      <td>...</td>\n",
       "      <td>0.1842</td>\n",
       "      <td>1.9080</td>\n",
       "      <td>0.1139</td>\n",
       "      <td>0.0000</td>\n",
       "      <td>0.565603</td>\n",
       "      <td>0.434397</td>\n",
       "      <td>0.020204</td>\n",
       "      <td>0.020204</td>\n",
       "      <td>0.051418</td>\n",
       "      <td>564</td>\n",
       "    </tr>\n",
       "    <tr>\n",
       "      <th>10016</th>\n",
       "      <td>chr18</td>\n",
       "      <td>76833924</td>\n",
       "      <td>76834464</td>\n",
       "      <td>TE</td>\n",
       "      <td>0.5616</td>\n",
       "      <td>0.3867</td>\n",
       "      <td>0.0425</td>\n",
       "      <td>0.8427</td>\n",
       "      <td>1.4914</td>\n",
       "      <td>1.6630</td>\n",
       "      <td>...</td>\n",
       "      <td>0.4702</td>\n",
       "      <td>1.8830</td>\n",
       "      <td>0.3013</td>\n",
       "      <td>0.2002</td>\n",
       "      <td>0.477778</td>\n",
       "      <td>0.522222</td>\n",
       "      <td>0.362505</td>\n",
       "      <td>0.395681</td>\n",
       "      <td>0.057407</td>\n",
       "      <td>540</td>\n",
       "    </tr>\n",
       "    <tr>\n",
       "      <th>10017</th>\n",
       "      <td>chr18</td>\n",
       "      <td>76834846</td>\n",
       "      <td>76835327</td>\n",
       "      <td>TE</td>\n",
       "      <td>0.6197</td>\n",
       "      <td>0.7589</td>\n",
       "      <td>0.1468</td>\n",
       "      <td>0.0000</td>\n",
       "      <td>0.8867</td>\n",
       "      <td>0.8208</td>\n",
       "      <td>...</td>\n",
       "      <td>0.2163</td>\n",
       "      <td>4.1193</td>\n",
       "      <td>0.0956</td>\n",
       "      <td>0.0000</td>\n",
       "      <td>0.544699</td>\n",
       "      <td>0.455301</td>\n",
       "      <td>0.379287</td>\n",
       "      <td>0.403342</td>\n",
       "      <td>0.000000</td>\n",
       "      <td>481</td>\n",
       "    </tr>\n",
       "    <tr>\n",
       "      <th>10018</th>\n",
       "      <td>chr18</td>\n",
       "      <td>76931680</td>\n",
       "      <td>76932478</td>\n",
       "      <td>TE</td>\n",
       "      <td>0.0000</td>\n",
       "      <td>0.1024</td>\n",
       "      <td>0.0000</td>\n",
       "      <td>0.0000</td>\n",
       "      <td>0.2146</td>\n",
       "      <td>0.1972</td>\n",
       "      <td>...</td>\n",
       "      <td>0.2808</td>\n",
       "      <td>0.8869</td>\n",
       "      <td>0.0367</td>\n",
       "      <td>0.0883</td>\n",
       "      <td>0.557644</td>\n",
       "      <td>0.442356</td>\n",
       "      <td>0.030260</td>\n",
       "      <td>0.036487</td>\n",
       "      <td>0.540100</td>\n",
       "      <td>798</td>\n",
       "    </tr>\n",
       "    <tr>\n",
       "      <th>10019</th>\n",
       "      <td>chr18</td>\n",
       "      <td>77276308</td>\n",
       "      <td>77277535</td>\n",
       "      <td>TE</td>\n",
       "      <td>1.7226</td>\n",
       "      <td>0.4543</td>\n",
       "      <td>0.7575</td>\n",
       "      <td>0.0000</td>\n",
       "      <td>2.1956</td>\n",
       "      <td>2.1320</td>\n",
       "      <td>...</td>\n",
       "      <td>0.5300</td>\n",
       "      <td>0.8927</td>\n",
       "      <td>1.5189</td>\n",
       "      <td>0.1873</td>\n",
       "      <td>0.537897</td>\n",
       "      <td>0.462103</td>\n",
       "      <td>0.099446</td>\n",
       "      <td>0.099449</td>\n",
       "      <td>0.903830</td>\n",
       "      <td>122</td>\n",
       "    </tr>\n",
       "  </tbody>\n",
       "</table>\n",
       "<p>10020 rows × 41 columns</p>\n",
       "</div>"
      ],
      "text/plain": [
       "       chrom     start       end Class  H3K27ac  H3K4me1  H3K4me3  H3K9me3  \\\n",
       "0       chr1  13049615  13050323    SE   0.2018   1.4146   0.0749   0.1198   \n",
       "1       chr1  13061206  13061924    SE   0.1342   0.4785   0.5477   0.2809   \n",
       "2       chr1  13063645  13065360    SE   0.6214   0.7748   0.1633   0.0000   \n",
       "3       chr1  13071010  13071067    SE   0.9484   1.8778   0.0000   0.0000   \n",
       "4       chr1  13074460  13075741    SE   1.1076   0.7386   0.0000   0.0000   \n",
       "...      ...       ...       ...   ...      ...      ...      ...      ...   \n",
       "10015  chr18  76832964  76833528    TE   0.3865   0.2178   0.0000   0.0000   \n",
       "10016  chr18  76833924  76834464    TE   0.5616   0.3867   0.0425   0.8427   \n",
       "10017  chr18  76834846  76835327    TE   0.6197   0.7589   0.1468   0.0000   \n",
       "10018  chr18  76931680  76932478    TE   0.0000   0.1024   0.0000   0.0000   \n",
       "10019  chr18  77276308  77277535    TE   1.7226   0.4543   0.7575   0.0000   \n",
       "\n",
       "         Brd4    Cdk8  ...    Klf4   Prdm14  Tcfcp2I1   Nr5a2  AT_content  \\\n",
       "0      0.7075  0.6613  ...  0.4839   1.5489    0.8829  0.1934    0.552260   \n",
       "1      0.4630  1.6258  ...  0.0315   0.1724    0.1641  0.0000    0.572423   \n",
       "2      1.5622  2.5607  ...  0.1867   5.2407    0.0000  0.2011    0.592420   \n",
       "3      0.8669  1.8424  ...  0.0000   1.0517    0.2885  0.4231    0.649123   \n",
       "4      3.2876  3.8653  ...  2.3268  63.2990   34.6054  0.1112    0.548009   \n",
       "...       ...     ...  ...     ...      ...       ...     ...         ...   \n",
       "10015  0.4477  0.6599  ...  0.1842   1.9080    0.1139  0.0000    0.565603   \n",
       "10016  1.4914  1.6630  ...  0.4702   1.8830    0.3013  0.2002    0.477778   \n",
       "10017  0.8867  0.8208  ...  0.2163   4.1193    0.0956  0.0000    0.544699   \n",
       "10018  0.2146  0.1972  ...  0.2808   0.8869    0.0367  0.0883    0.557644   \n",
       "10019  2.1956  2.1320  ...  0.5300   0.8927    1.5189  0.1873    0.537897   \n",
       "\n",
       "       GC_content  phastCons  phastConsP  repeat_fraction  length  \n",
       "0        0.447740   0.057415    0.057418         0.810734     708  \n",
       "1        0.427577   0.128439    0.128439         0.738162     718  \n",
       "2        0.407580   0.220057    0.230713         0.092711    1715  \n",
       "3        0.350877   0.050386    0.050386         0.000000      57  \n",
       "4        0.451991   0.054896    0.054997         0.231850    1281  \n",
       "...           ...        ...         ...              ...     ...  \n",
       "10015    0.434397   0.020204    0.020204         0.051418     564  \n",
       "10016    0.522222   0.362505    0.395681         0.057407     540  \n",
       "10017    0.455301   0.379287    0.403342         0.000000     481  \n",
       "10018    0.442356   0.030260    0.036487         0.540100     798  \n",
       "10019    0.462103   0.099446    0.099449         0.903830     122  \n",
       "\n",
       "[10020 rows x 41 columns]"
      ]
     },
     "execution_count": 11,
     "metadata": {},
     "output_type": "execute_result"
    }
   ],
   "source": [
    "improse_data"
   ]
  },
  {
   "cell_type": "code",
   "execution_count": 12,
   "id": "57967e67",
   "metadata": {},
   "outputs": [
    {
     "name": "stderr",
     "output_type": "stream",
     "text": [
      "/tmp/ipykernel_37259/3647218385.py:2: SettingWithCopyWarning: \n",
      "A value is trying to be set on a copy of a slice from a DataFrame.\n",
      "Try using .loc[row_indexer,col_indexer] = value instead\n",
      "\n",
      "See the caveats in the documentation: https://pandas.pydata.org/pandas-docs/stable/user_guide/indexing.html#returning-a-view-versus-a-copy\n",
      "  improse_data['length'] = improse_data['end'] - improse_data['start']\n"
     ]
    }
   ],
   "source": [
    "improse_data = improse_data[['chrom', 'start', 'end', 'Class']]\n",
    "improse_data['length'] = improse_data['end'] - improse_data['start']"
   ]
  },
  {
   "cell_type": "code",
   "execution_count": 13,
   "id": "2b76afb9",
   "metadata": {},
   "outputs": [
    {
     "data": {
      "text/html": [
       "<div>\n",
       "<style scoped>\n",
       "    .dataframe tbody tr th:only-of-type {\n",
       "        vertical-align: middle;\n",
       "    }\n",
       "\n",
       "    .dataframe tbody tr th {\n",
       "        vertical-align: top;\n",
       "    }\n",
       "\n",
       "    .dataframe thead th {\n",
       "        text-align: right;\n",
       "    }\n",
       "</style>\n",
       "<table border=\"1\" class=\"dataframe\">\n",
       "  <thead>\n",
       "    <tr style=\"text-align: right;\">\n",
       "      <th></th>\n",
       "      <th>chrom</th>\n",
       "      <th>start</th>\n",
       "      <th>end</th>\n",
       "      <th>Class</th>\n",
       "      <th>length</th>\n",
       "    </tr>\n",
       "  </thead>\n",
       "  <tbody>\n",
       "    <tr>\n",
       "      <th>0</th>\n",
       "      <td>chr1</td>\n",
       "      <td>13049615</td>\n",
       "      <td>13050323</td>\n",
       "      <td>SE</td>\n",
       "      <td>708</td>\n",
       "    </tr>\n",
       "    <tr>\n",
       "      <th>1</th>\n",
       "      <td>chr1</td>\n",
       "      <td>13061206</td>\n",
       "      <td>13061924</td>\n",
       "      <td>SE</td>\n",
       "      <td>718</td>\n",
       "    </tr>\n",
       "    <tr>\n",
       "      <th>2</th>\n",
       "      <td>chr1</td>\n",
       "      <td>13063645</td>\n",
       "      <td>13065360</td>\n",
       "      <td>SE</td>\n",
       "      <td>1715</td>\n",
       "    </tr>\n",
       "    <tr>\n",
       "      <th>3</th>\n",
       "      <td>chr1</td>\n",
       "      <td>13071010</td>\n",
       "      <td>13071067</td>\n",
       "      <td>SE</td>\n",
       "      <td>57</td>\n",
       "    </tr>\n",
       "    <tr>\n",
       "      <th>4</th>\n",
       "      <td>chr1</td>\n",
       "      <td>13074460</td>\n",
       "      <td>13075741</td>\n",
       "      <td>SE</td>\n",
       "      <td>1281</td>\n",
       "    </tr>\n",
       "    <tr>\n",
       "      <th>...</th>\n",
       "      <td>...</td>\n",
       "      <td>...</td>\n",
       "      <td>...</td>\n",
       "      <td>...</td>\n",
       "      <td>...</td>\n",
       "    </tr>\n",
       "    <tr>\n",
       "      <th>10015</th>\n",
       "      <td>chr18</td>\n",
       "      <td>76832964</td>\n",
       "      <td>76833528</td>\n",
       "      <td>TE</td>\n",
       "      <td>564</td>\n",
       "    </tr>\n",
       "    <tr>\n",
       "      <th>10016</th>\n",
       "      <td>chr18</td>\n",
       "      <td>76833924</td>\n",
       "      <td>76834464</td>\n",
       "      <td>TE</td>\n",
       "      <td>540</td>\n",
       "    </tr>\n",
       "    <tr>\n",
       "      <th>10017</th>\n",
       "      <td>chr18</td>\n",
       "      <td>76834846</td>\n",
       "      <td>76835327</td>\n",
       "      <td>TE</td>\n",
       "      <td>481</td>\n",
       "    </tr>\n",
       "    <tr>\n",
       "      <th>10018</th>\n",
       "      <td>chr18</td>\n",
       "      <td>76931680</td>\n",
       "      <td>76932478</td>\n",
       "      <td>TE</td>\n",
       "      <td>798</td>\n",
       "    </tr>\n",
       "    <tr>\n",
       "      <th>10019</th>\n",
       "      <td>chr18</td>\n",
       "      <td>77276308</td>\n",
       "      <td>77277535</td>\n",
       "      <td>TE</td>\n",
       "      <td>1227</td>\n",
       "    </tr>\n",
       "  </tbody>\n",
       "</table>\n",
       "<p>10020 rows × 5 columns</p>\n",
       "</div>"
      ],
      "text/plain": [
       "       chrom     start       end Class  length\n",
       "0       chr1  13049615  13050323    SE     708\n",
       "1       chr1  13061206  13061924    SE     718\n",
       "2       chr1  13063645  13065360    SE    1715\n",
       "3       chr1  13071010  13071067    SE      57\n",
       "4       chr1  13074460  13075741    SE    1281\n",
       "...      ...       ...       ...   ...     ...\n",
       "10015  chr18  76832964  76833528    TE     564\n",
       "10016  chr18  76833924  76834464    TE     540\n",
       "10017  chr18  76834846  76835327    TE     481\n",
       "10018  chr18  76931680  76932478    TE     798\n",
       "10019  chr18  77276308  77277535    TE    1227\n",
       "\n",
       "[10020 rows x 5 columns]"
      ]
     },
     "execution_count": 13,
     "metadata": {},
     "output_type": "execute_result"
    }
   ],
   "source": [
    "improse_data"
   ]
  },
  {
   "cell_type": "code",
   "execution_count": 14,
   "id": "f7a095ef",
   "metadata": {},
   "outputs": [
    {
     "data": {
      "text/plain": [
       "Class\n",
       "SE     646\n",
       "TE    9374\n",
       "Name: Class, dtype: int64"
      ]
     },
     "execution_count": 14,
     "metadata": {},
     "output_type": "execute_result"
    }
   ],
   "source": [
    "improse_data.groupby(['Class'])['Class'].count()"
   ]
  },
  {
   "cell_type": "code",
   "execution_count": 15,
   "id": "9134e4a1",
   "metadata": {},
   "outputs": [
    {
     "data": {
      "text/plain": [
       "Class\n",
       "SE    2504\n",
       "TE    2532\n",
       "Name: length, dtype: int64"
      ]
     },
     "execution_count": 15,
     "metadata": {},
     "output_type": "execute_result"
    }
   ],
   "source": [
    "improse_data.groupby(['Class'])['length'].max()"
   ]
  },
  {
   "cell_type": "code",
   "execution_count": 16,
   "id": "7a5a9ff3",
   "metadata": {},
   "outputs": [
    {
     "data": {
      "text/plain": [
       "Class\n",
       "SE    4\n",
       "TE    1\n",
       "Name: length, dtype: int64"
      ]
     },
     "execution_count": 16,
     "metadata": {},
     "output_type": "execute_result"
    }
   ],
   "source": [
    "improse_data.groupby(['Class'])['length'].min()"
   ]
  },
  {
   "cell_type": "code",
   "execution_count": 17,
   "id": "44eefe83",
   "metadata": {},
   "outputs": [
    {
     "data": {
      "text/plain": [
       "<AxesSubplot:xlabel='length', ylabel='Class'>"
      ]
     },
     "execution_count": 17,
     "metadata": {},
     "output_type": "execute_result"
    },
    {
     "data": {
      "image/png": "[encoded data removed]",
      "text/plain": [
       "<Figure size 432x288 with 1 Axes>"
      ]
     },
     "metadata": {
      "needs_background": "light"
     },
     "output_type": "display_data"
    }
   ],
   "source": [
    "sns.boxplot(data=improse_data, x=\"length\", y=\"Class\")"
   ]
  },
  {
   "cell_type": "code",
   "execution_count": 18,
   "id": "bd56eb19",
   "metadata": {},
   "outputs": [],
   "source": [
    "improse_data = improse_data[improse_data['length']>=500]"
   ]
  },
  {
   "cell_type": "code",
   "execution_count": 19,
   "id": "3863d237",
   "metadata": {},
   "outputs": [
    {
     "data": {
      "text/plain": [
       "Class\n",
       "SE     615\n",
       "TE    7954\n",
       "Name: Class, dtype: int64"
      ]
     },
     "execution_count": 19,
     "metadata": {},
     "output_type": "execute_result"
    }
   ],
   "source": [
    "improse_data.groupby(['Class'])['Class'].count()"
   ]
  },
  {
   "cell_type": "code",
   "execution_count": 20,
   "id": "1ce15d25",
   "metadata": {},
   "outputs": [
    {
     "data": {
      "text/plain": [
       "<AxesSubplot:xlabel='length', ylabel='Class'>"
      ]
     },
     "execution_count": 20,
     "metadata": {},
     "output_type": "execute_result"
    },
    {
     "data": {
      "image/png": "[encoded data removed]",
      "text/plain": [
       "<Figure size 432x288 with 1 Axes>"
      ]
     },
     "metadata": {
      "needs_background": "light"
     },
     "output_type": "display_data"
    }
   ],
   "source": [
    "sns.boxplot(data=improse_data, x=\"length\", y=\"Class\")"
   ]
  },
  {
   "cell_type": "code",
   "execution_count": 21,
   "id": "95700812",
   "metadata": {},
   "outputs": [],
   "source": [
    "bet_subset = improse_data.rename(columns={\"chrom\":\"Chromosome\", \"start\": \"Start\", \"end\": \"End\"})[['Chromosome', 'Start', 'End']]"
   ]
  },
  {
   "cell_type": "code",
   "execution_count": 22,
   "id": "f6b56b4c",
   "metadata": {},
   "outputs": [],
   "source": [
    "file = pybed.BedFrame.from_frame(meta=[], data=bet_subset)\n",
    "file.to_file('bed_files/improse.bed')"
   ]
  },
  {
   "cell_type": "markdown",
   "id": "65ca7adb",
   "metadata": {},
   "source": [
    "making fasta using https://meme-suite.org/meme/tools/bed2fasta tool (mouse genome version mm9)"
   ]
  },
  {
   "cell_type": "code",
   "execution_count": 23,
   "id": "1f7162bc",
   "metadata": {},
   "outputs": [],
   "source": [
    "sequential_data = {}\n",
    "with open('fasta_files/improse.fasta') as input_file:\n",
    "    content = input_file.readlines()\n",
    "    for i in range(len(content)):\n",
    "        if i%2 == 0:\n",
    "            label = improse_data.iloc[int(i/2)]['Class']\n",
    "            if label == 'SE':\n",
    "                sequential_data[content[i+1][:-1].upper()] = 1\n",
    "            else:\n",
    "                sequential_data[content[i+1][:-1].upper()] = 0"
   ]
  },
  {
   "cell_type": "code",
   "execution_count": 24,
   "id": "54e98ef6",
   "metadata": {},
   "outputs": [],
   "source": [
    "tokenized_data = {}\n",
    "tokenized_data['sequence'] = 'label'\n",
    "for i in sequential_data:\n",
    "    label = sequential_data[i]\n",
    "    new_i = []\n",
    "    while(len(i)) >= 6:\n",
    "        new_i.append(i[0:6])\n",
    "        i = i[1:]\n",
    "    new_i = ' '.join(new_i)\n",
    "    tokenized_data[new_i] = label"
   ]
  },
  {
   "cell_type": "code",
   "execution_count": 25,
   "id": "d243c572",
   "metadata": {},
   "outputs": [],
   "source": [
    "with open('converted_data/improse.tsv', 'w') as f:\n",
    "    w = csv.writer(f, delimiter='\\t', lineterminator='\\n')\n",
    "    w.writerows(tokenized_data.items())"
   ]
  }
 ],
 "metadata": {
  "kernelspec": {
   "display_name": "Python 3 (ipykernel)",
   "language": "python",
   "name": "python3"
  },
  "language_info": {
   "codemirror_mode": {
    "name": "ipython",
    "version": 3
   },
   "file_extension": ".py",
   "mimetype": "text/x-python",
   "name": "python",
   "nbconvert_exporter": "python",
   "pygments_lexer": "ipython3",
   "version": "3.10.6"
  }
 },
 "nbformat": 4,
 "nbformat_minor": 5
}
